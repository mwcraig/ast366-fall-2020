{
 "cells": [
  {
   "cell_type": "markdown",
   "metadata": {},
   "source": [
    "# Observation planning TEMPLATE\n",
    "\n",
    "## Using astroplan to find out which nights an object is up"
   ]
  },
  {
   "cell_type": "markdown",
   "metadata": {},
   "source": [
    "This notebook focuses on two broader questions:\n",
    "\n",
    "1. Which times of year is it possible to observe the object of interest at a particular location?\n",
    "2. On a particular date, which times of night is it best to observe the object of interest?\n",
    "\n",
    "The python package [astroplan](https://astroplan.readthedocs.io) will be used to do all of the work here. As a result, much of this notebook will focus on the mechanics of how to do that rather than on background or theory.\n"
   ]
  },
  {
   "cell_type": "markdown",
   "metadata": {},
   "source": [
    "## Exoplanet resources for epoch, period and more\n",
    "\n",
    "+ The [Exoplanet Transit Database (ETD)](http://var2.astro.cz/ETD/index.php) is really handy for many exoplanets discovered from ground-baed observatories.\n",
    "+ For TESS planet candidates (those whose name starts `TIC`) use [ExoFOP-TESS](https://exofop.ipac.caltech.edu/tess/) and put the \"TIC number\" into the appropriate search box. The epoch and period will be included in the page of information that comes up.\n",
    "+ The most complete database is the [NASA Exoplanet Archive](https://exoplanetarchive.ipac.caltech.edu/)."
   ]
  },
  {
   "cell_type": "markdown",
   "metadata": {},
   "source": [
    "## Variable star resources for period, epoch and more\n",
    "\n",
    "+ The best one by far is the [AAVSO Variable Star Index (VSX)](https://www.aavso.org/vsx/index.php?view=search.top). In addition to period and epoch it can also generate an ephemeris of upcoming events, i.e. a list of upcoming maxima or eclipses. "
   ]
  },
  {
   "cell_type": "markdown",
   "metadata": {},
   "source": [
    "## Run, but do not modify, the code in the cell below\n",
    "\n",
    "None of the following cells will run until you have run the one below."
   ]
  },
  {
   "cell_type": "code",
   "execution_count": null,
   "metadata": {},
   "outputs": [],
   "source": [
    "# Set plotting interface\n",
    "%matplotlib inline\n",
    "import matplotlib.pyplot as plt\n",
    "from matplotlib import dates\n",
    "import numpy as np\n",
    "\n",
    "# Load a couple of things needed from astroplan\n",
    "from astroplan import (Observer, FixedTarget, \n",
    "                       AtNightConstraint, AltitudeConstraint,\n",
    "                       is_event_observable)\n",
    "from astroplan.plots import plot_airmass, plot_finder_image\n",
    "\n",
    "# And load Time from astropy\n",
    "from astropy.time import Time\n",
    "\n",
    "# Load astropy units module\n",
    "import astropy.units as u\n",
    "\n",
    "# Get the latest Earth orientation information...\n",
    "\n",
    "from astroplan import download_IERS_A\n",
    "#download_IERS_A()"
   ]
  },
  {
   "cell_type": "markdown",
   "metadata": {},
   "source": [
    "Visibility depends on location, so the first step is to provide the location of the observatory. Notice that the longitude is given as degrees *east*; it should be a number between 0 and 360."
   ]
  },
  {
   "cell_type": "code",
   "execution_count": null,
   "metadata": {},
   "outputs": [],
   "source": [
    "feder = Observer(latitude=\"46.86678d\", longitude=\"263.54672d\")"
   ]
  },
  {
   "cell_type": "markdown",
   "metadata": {},
   "source": [
    "Everything done below can be doen for either a single object, as below, or for several objects at once. As a first example we will stick to one object, but an example with a couple of objects will be included at the end."
   ]
  },
  {
   "cell_type": "code",
   "execution_count": null,
   "metadata": {},
   "outputs": [],
   "source": [
    "my_object = FixedTarget.from_name('ey uma')"
   ]
  },
  {
   "cell_type": "markdown",
   "metadata": {},
   "source": [
    "## Plotting visibility over one night\n",
    "\n",
    "Here, the goal is to plot, over the course of an entire day, how high EY UMa is above the horizon.\n",
    "\n",
    "Recall that the first step in providing a time is to convert it from local time to UTC. Central Daylight Time is five hours behind UTC, so to get to UTC, add five hours to 11PM CDT on Thu, Sep **15**, 2016.\n",
    "\n",
    "Doing so gives 4AM on **Fri**, Sep **16**, 2016 UTC. This time is entered below in ISO format, though astropy does a pretty good job at interpreting sseveral formats."
   ]
  },
  {
   "cell_type": "code",
   "execution_count": null,
   "metadata": {},
   "outputs": [],
   "source": [
    "obs_time = Time(\"2016-09-16 04:00:00\", scale='utc')"
   ]
  },
  {
   "cell_type": "code",
   "execution_count": null,
   "metadata": {},
   "outputs": [],
   "source": [
    "plot_airmass(my_object, feder, obs_time, brightness_shading=True, altitude_yaxis=True)\n",
    "plt.title(my_object.name)"
   ]
  },
  {
   "cell_type": "markdown",
   "metadata": {},
   "source": [
    "## Plot airmass over a large range of dates to make a rough choice of night\n",
    "\n",
    "The cell immediately below this generates a list of dates, 5 days apart from each other, covering 365 days."
   ]
  },
  {
   "cell_type": "code",
   "execution_count": null,
   "metadata": {},
   "outputs": [],
   "source": [
    "times = obs_time + np.arange(0, 365, 5) * u.day"
   ]
  },
  {
   "cell_type": "code",
   "execution_count": null,
   "metadata": {},
   "outputs": [],
   "source": [
    "ax = plot_airmass(my_object, feder, times, altitude_yaxis=True)\n",
    "plt.title('target visibility at 10PM or 11PM local time'.format(my_object.name))\n",
    "\n",
    "plt.grid()\n",
    "\n",
    "# Code below adds date to the horizontal axis\n",
    "date_formatter = dates.DateFormatter('%D %H:%M')\n",
    "ax.xaxis.set_major_formatter(date_formatter)"
   ]
  },
  {
   "cell_type": "markdown",
   "metadata": {},
   "source": [
    "\n",
    "## Revising the plan\n",
    "\n",
    "From the graph above it is clear that an obsevrvation date between roughly the beginning of December and late May would work better than September.\n",
    "\n",
    "The plot below shows visibility over the night of Dec 1, 2016 at 11:59 CST. That is Dec **2**, 2016 at 06:00 UTC because the offset between Central *Standard* Time and UTC is 6 hours."
   ]
  },
  {
   "cell_type": "code",
   "execution_count": null,
   "metadata": {},
   "outputs": [],
   "source": [
    "obs_time = Time(\"2020-12-02 05:59:00\", scale='utc')"
   ]
  },
  {
   "cell_type": "code",
   "execution_count": null,
   "metadata": {},
   "outputs": [],
   "source": [
    "ax = plot_airmass(my_object, feder, obs_time, brightness_shading=False, altitude_yaxis=True)\n",
    "plt.grid()\n",
    "plt.title(my_object.name)"
   ]
  },
  {
   "cell_type": "markdown",
   "metadata": {},
   "source": [
    "It appears EY UMa will be observable from roughly 4AM UTC (10PM CST on 12/1) until the sky begins to brighten at 12:00UTC (6AM CST)"
   ]
  },
  {
   "cell_type": "markdown",
   "metadata": {},
   "source": [
    "### Predicting upcoming maximum or eclipse\n",
    "\n",
    "The formula for predicting maxima given an epoch, called $t_{\\text{epoch}}$ below, and a period, called $P$ below, is\n",
    "\n",
    "\\begin{equation}\n",
    "t_{\\text{future}} = t_{\\text{epoch}} + N * P\n",
    "\\end{equation}"
   ]
  },
  {
   "cell_type": "markdown",
   "metadata": {},
   "source": [
    "Let's use that to calculate some of the future maxima of EY Uma"
   ]
  },
  {
   "cell_type": "code",
   "execution_count": null,
   "metadata": {},
   "outputs": [],
   "source": [
    "t_epoch = Time(2456159.32, scale='utc', format='jd')\n",
    "period = 0.54909 * u.day\n",
    "\n",
    "# You will need to change this value to something like\n",
    "# the time now minus the epoch divided by the period.\n",
    "now = Time('2020-10-06T13:59', scale='utc')\n",
    "n_start = (now - t_epoch).jd // period.value \n",
    "\n",
    "n_end = n_start + 60\n",
    "\n",
    "future_events = t_epoch + period * np.arange(n_start, n_end)"
   ]
  },
  {
   "cell_type": "code",
   "execution_count": null,
   "metadata": {},
   "outputs": [],
   "source": [
    "for event in future_events:\n",
    "    print(event.isot)"
   ]
  },
  {
   "cell_type": "code",
   "execution_count": null,
   "metadata": {},
   "outputs": [],
   "source": [
    "constraints = [AtNightConstraint.twilight_civil(),\n",
    "               AltitudeConstraint(min=40*u.deg)]\n",
    "is_observable = is_event_observable(constraints, feder, my_object, \n",
    "                                    times=future_events)\n",
    "is_observable = is_observable[0]"
   ]
  },
  {
   "cell_type": "code",
   "execution_count": null,
   "metadata": {},
   "outputs": [],
   "source": [
    "for event in future_events[is_observable]:\n",
    "    print(event.isot)"
   ]
  },
  {
   "cell_type": "markdown",
   "metadata": {},
   "source": [
    "## Creating a finding chart\n",
    "\n",
    "A finding chart is simply a picture (or diagram) of the region of the sky surrounding the object of interest. The code below generates a chart for `my_object`. You can change the options in `plot_finder_image` to turn off the reticle, which marks the object of interest, or to turn off the grid."
   ]
  },
  {
   "cell_type": "code",
   "execution_count": null,
   "metadata": {},
   "outputs": [],
   "source": [
    "plt.figure(figsize=(10, 10))\n",
    "ax, hdu = plot_finder_image(my_object, fov_radius=20 * u.arcmin, reticle=True, grid=True)"
   ]
  }
 ],
 "metadata": {
  "kernelspec": {
   "display_name": "Python 3",
   "language": "python",
   "name": "python3"
  },
  "language_info": {
   "codemirror_mode": {
    "name": "ipython",
    "version": 3
   },
   "file_extension": ".py",
   "mimetype": "text/x-python",
   "name": "python",
   "nbconvert_exporter": "python",
   "pygments_lexer": "ipython3",
   "version": "3.8.3"
  }
 },
 "nbformat": 4,
 "nbformat_minor": 4
}
