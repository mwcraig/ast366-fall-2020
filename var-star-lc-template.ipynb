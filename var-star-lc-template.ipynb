{
 "cells": [
  {
   "cell_type": "code",
   "execution_count": null,
   "metadata": {},
   "outputs": [],
   "source": [
    "from collections import defaultdict\n",
    "\n",
    "import numpy as np\n",
    "\n",
    "from astropy.table import Table \n",
    "from astrowidgets import ImageWidget\n",
    "from bqplot import pyplot as plt\n",
    "import ipywidgets as ipw\n",
    "\n",
    "from stellarphot.differential_photometry import catalog_search"
   ]
  },
  {
   "cell_type": "markdown",
   "metadata": {},
   "source": [
    "## Settings\n",
    "\n",
    "Enter two things below:\n",
    "\n",
    "+ the table with the latest relative flux calculation.\n",
    "+ the aperture location file"
   ]
  },
  {
   "cell_type": "code",
   "execution_count": null,
   "metadata": {},
   "outputs": [],
   "source": [
    "ta = Table.read('relative_flux-kelt-1.fits')\n",
    "aps = Table.read('aperture_locations.fits')\n",
    "aps"
   ]
  },
  {
   "cell_type": "code",
   "execution_count": null,
   "metadata": {},
   "outputs": [],
   "source": [
    "vsx = aps[aps['marker name'] == 'VSX']\n",
    "vsx"
   ]
  },
  {
   "cell_type": "code",
   "execution_count": null,
   "metadata": {},
   "outputs": [],
   "source": [
    "vsx_ids = vsx['id']\n",
    "vsx_dropdown = [(f'V{v}', v) for v in vsx_ids]\n",
    "\n",
    "new_cols = defaultdict(list)\n",
    "\n",
    "for row in vsx:\n",
    "    foo = catalog_search(row['coord'], (10, 10), 'B/vsx/vsx', \n",
    "                         ra_column='RAJ2000', dec_column='DEJ2000', \n",
    "                         radius=0.01, clip_by_frame=False)\n",
    "    this_star = foo[0]\n",
    "    for data in ['Name', 'Type', 'V', 'Period', 'max', 'min']:\n",
    "        new_cols[data].append(this_star[data])\n",
    "\n",
    "for k, v in new_cols.items():\n",
    "    vsx.add_column(v, name=k)"
   ]
  },
  {
   "cell_type": "code",
   "execution_count": null,
   "metadata": {},
   "outputs": [],
   "source": [
    "fig = plt.figure(animation_duration=1000)\n",
    "fig.layout.width = '100%'\n",
    "sc = plt.scatter([0, 1, 2, 6, 4], [0, 0, 0, 0, 0])\n",
    "#plt.show()"
   ]
  },
  {
   "cell_type": "code",
   "execution_count": null,
   "metadata": {},
   "outputs": [],
   "source": [
    "def update_plot(change):\n",
    "    new_id = change['new']\n",
    "    new_y_data = ta['relative_flux'][ta['id'] == new_id]\n",
    "    sc.y = new_y_data / np.nanmean(new_y_data)\n",
    "    sc.x = ta['BJD'][ta['id'] == new_id]"
   ]
  },
  {
   "cell_type": "code",
   "execution_count": null,
   "metadata": {},
   "outputs": [],
   "source": [
    "hbo = ipw.HBox(layout=ipw.Layout(width='100%'))\n",
    "ddown = ipw.Dropdown(options=vsx_dropdown)\n",
    "hbo.children = [fig, ddown]\n",
    "\n",
    "# Draw the light curve for the first variable in case there is only 1\n",
    "change = {'new': vsx_dropdown[0][1]}\n",
    "update_plot(change)"
   ]
  },
  {
   "cell_type": "code",
   "execution_count": null,
   "metadata": {},
   "outputs": [],
   "source": [
    "ddown.observe(update_plot, names='value')"
   ]
  },
  {
   "cell_type": "code",
   "execution_count": null,
   "metadata": {},
   "outputs": [],
   "source": [
    "vsx"
   ]
  },
  {
   "cell_type": "code",
   "execution_count": null,
   "metadata": {},
   "outputs": [],
   "source": [
    "hbo"
   ]
  },
  {
   "cell_type": "code",
   "execution_count": null,
   "metadata": {},
   "outputs": [],
   "source": []
  }
 ],
 "metadata": {
  "kernelspec": {
   "display_name": "Python 3",
   "language": "python",
   "name": "python3"
  },
  "language_info": {
   "codemirror_mode": {
    "name": "ipython",
    "version": 3
   },
   "file_extension": ".py",
   "mimetype": "text/x-python",
   "name": "python",
   "nbconvert_exporter": "python",
   "pygments_lexer": "ipython3",
   "version": "3.8.3"
  }
 },
 "nbformat": 4,
 "nbformat_minor": 4
}
