{
 "cells": [
  {
   "cell_type": "markdown",
   "metadata": {},
   "source": [
    "# 2020-09-29\n",
    "\n",
    "+ Times in astronomy \n",
    "+ Predicting the future"
   ]
  },
  {
   "cell_type": "markdown",
   "metadata": {},
   "source": [
    "## Time scales in astronomy"
   ]
  },
  {
   "cell_type": "markdown",
   "metadata": {},
   "source": [
    "### Condensed version: see [2020-09-24.ipynb](2020-09-24.ipynb) for more detail\n",
    "\n",
    "The formal definition of these scales are maintained by the International Astronomical Union [Standards of Fundamental Astronomy](http://www.iausofa.org/) (SOFA). The document [SOFA Time Scale and Calendar Tools](http://www.iausofa.org/sofa_ts_c.pdf), sections 2 and 3 are particularly helpful if you want a brief, high-level summary of the time scales, and this overview draws heavily on them."
   ]
  },
  {
   "cell_type": "markdown",
   "metadata": {},
   "source": [
    "### Video summary of this section\n",
    "\n",
    "Video link: https://youtu.be/vRGr7qYzVRU\n"
   ]
  },
  {
   "cell_type": "code",
   "execution_count": 1,
   "metadata": {},
   "outputs": [
    {
     "data": {
      "image/jpeg": "[encoded data removed]",
      "text/html": [
       "\n",
       "        <iframe\n",
       "            width=\"400\"\n",
       "            height=\"300\"\n",
       "            src=\"https://www.youtube.com/embed/vRGr7qYzVRU\"\n",
       "            frameborder=\"0\"\n",
       "            allowfullscreen\n",
       "        ></iframe>\n",
       "        "
      ],
      "text/plain": [
       "<IPython.lib.display.YouTubeVideo at 0x7fb4e84dfe80>"
      ]
     },
     "execution_count": 1,
     "metadata": {},
     "output_type": "execute_result"
    }
   ],
   "source": [
    "from IPython.display import YouTubeVideo\n",
    "\n",
    "YouTubeVideo('vRGr7qYzVRU')"
   ]
  },
  {
   "cell_type": "markdown",
   "metadata": {},
   "source": [
    "### Big picture\n",
    "\n",
    "The sheer number of time scales used in astronomy is intimidating; the diagram below, from the [astropy time documentation](http://astropy.readthedocs.io/en/stable/time/index.html), shows all seven of them (the blue boxes):\n",
    "\n",
    "![Time scales and relationships](media/2020-09-29-time_scale_conversion.png)\n",
    "\n",
    "Two of these matter to us:\n",
    "\n",
    "+ **UTC** is the time used by computers; it is the time in Greenwich, England. It is a combination of atomic clock time with \"leap seconds\" added occasionally to keep midnight roughly at the same time during the night. \n",
    "+ **TDB** is atomic clock time, with some offsets to account for relativistic effects. It is especially important for precise time measurements."
   ]
  },
  {
   "cell_type": "markdown",
   "metadata": {},
   "source": [
    "### Time formats\n",
    "\n",
    "\n",
    "There are several formats for representing times. For example, \"June 30, 1994 11:59:59PM\" and \"1994-06-30 23:59:59\" are both ways of writing the same time. A good list of commont formats is in the [astropy documentation for time formats](http://astropy.readthedocs.io/en/stable/time/index.html#time-format).\n",
    "\n",
    "One common format, ISOT, is this: `1994-06-30T23:59:59`\n",
    "\n",
    "Note that the order of items in the date is always YEAR-MONTH-DAY, that month and day are always two digits, and that the time is on a 24-clock."
   ]
  },
  {
   "cell_type": "markdown",
   "metadata": {},
   "source": [
    "### Julian Date and Modified Julian Date\n",
    "\n",
    "Julian date is the number of days that have elapsed since noon on a particular day about 7,000 years ago. Times are included as a fraction of a day. \n",
    "\n",
    "Different time scales (like UT1 and TAI) have days that correspond to diferent amounts of time, so when a Julian date is used it should be made clear what time scale it is on.\n",
    "\n",
    "One important time scale, UTC, should NOT be converted directly to a Julian date because the number of seconds in a day in UTC depends on the day. Most days it is 86,400 but the is one second longer or shorter on UTC leap second days.\n",
    "\n",
    "To repeat, **do not express a time on the UTC scale as a Julian date**. Convert to a different scale first, then be explicit about which time scale you are using when you wwrite a Julian date.\n",
    "\n",
    "#### Modified Julian date\n",
    "\n",
    "The JD has a couple of oddities:\n",
    "\n",
    "+ The day starts at noon, not midnight.\n",
    "+ There have been over 2.4 million days since the designated start of the Julian date system, so it is easy to unintentionally round a Julian date when it is represented in a computer.\n",
    "\n",
    "The modified Julian date (MJD) is the Julian data minus 2,400,000.5. The decimal part shifts the MJD to begin at midnight instead of noon, and subtracting off 2.4 million makes it easier to represent the date on a computer.\n",
    "\n",
    "As with the JD, one should clearly indicate the time scale used when providing a MJD, and UTC is **not** an approporiate time scale."
   ]
  },
  {
   "cell_type": "markdown",
   "metadata": {},
   "source": [
    "### Software for converting between time scales and formats\n",
    "\n",
    "Two options:\n",
    "\n",
    "1. The example below illustrate using [astropy](http://astropy.org) to do time conversions. Very detailed documentation for astropy's `Time` class is [here](https://docs.astropy.org/en/stable/time/index.html#), but you may find it overwhelming if you are new to python. \n",
    "\n",
    "3. Google. Not the best for doing science but great when you just need a number quickly.\n",
    "\n",
    "The examples below walk through some of the basic uses."
   ]
  },
  {
   "cell_type": "markdown",
   "metadata": {},
   "source": [
    "### How to run these code examples\n",
    "\n",
    "You can simply read this notebook without running any of the code. If you want to try the code, feel free to modify the cells and run them.\n",
    "\n",
    "The program in each cell can be run by:\n",
    "\n",
    "+ Clicking in the cell with the mouse, then\n",
    "+ Holding down the shift key and pushing `Enter`.\n",
    "\n",
    "Interspersed with the code below are several exercises. Give them a try!\n",
    "\n",
    "#### *Run ALL the cells in order if you choose to run any of them*"
   ]
  },
  {
   "cell_type": "code",
   "execution_count": 2,
   "metadata": {},
   "outputs": [],
   "source": [
    "# Load Time from astropy \n",
    "from astropy.time import Time"
   ]
  },
  {
   "cell_type": "markdown",
   "metadata": {},
   "source": [
    "#### Create a time\n",
    "\n",
    "To create a time you need to supply three things:\n",
    "\n",
    "+ The time itself.\n",
    "+ The scale the time is in (a UTC day is not the same length as a UT1 day, nor is it alwys the same length as a TAI/TT day).\n",
    "+ The format the time is in.\n",
    "\n",
    "If you leave out the last two, astropy will try to guess the scale and format. Try to avoid that by being explicit. That is usually fine for the *format* but you should always *explicitly set the scale*."
   ]
  },
  {
   "cell_type": "markdown",
   "metadata": {},
   "source": [
    "The example below creates a variable named `my_time` that holds the time September 15, 2020 at 9:36AM Central Daylight Time.\n",
    "\n",
    "#### Notice that the convertion to UTC has been done manually by ADDING 5 HOURS to that time."
   ]
  },
  {
   "cell_type": "code",
   "execution_count": 3,
   "metadata": {},
   "outputs": [],
   "source": [
    "my_time = Time(\"2020-09-15 14:36:00\", scale='utc')"
   ]
  },
  {
   "cell_type": "markdown",
   "metadata": {},
   "source": [
    "#### Display the time you created\n",
    "\n",
    "Creating a variable to hold a time does not automatically print in on the screen. To display it, use the print command, like this:"
   ]
  },
  {
   "cell_type": "code",
   "execution_count": 4,
   "metadata": {},
   "outputs": [
    {
     "name": "stdout",
     "output_type": "stream",
     "text": [
      "2020-09-15 14:36:00.000\n"
     ]
    }
   ],
   "source": [
    "print(my_time)"
   ]
  },
  {
   "cell_type": "markdown",
   "metadata": {},
   "source": [
    "#### Convert a time to a different time scale\n",
    "\n",
    "The list of time scales that astropy can represent is listed in [their documentation](); it includes all of the scales in the diagram at the top of this notebook.\n",
    "\n",
    "Converting between time scales is very straightforward: add a period and the abbreviation for that time scale in lower case (e.g. tdb for Barycentric Dynamical Time). "
   ]
  },
  {
   "cell_type": "code",
   "execution_count": 5,
   "metadata": {},
   "outputs": [
    {
     "name": "stdout",
     "output_type": "stream",
     "text": [
      "2020-09-15 14:37:09.182\n"
     ]
    }
   ],
   "source": [
    "print(my_time.tdb)"
   ]
  },
  {
   "cell_type": "markdown",
   "metadata": {},
   "source": [
    "#### Some time scales will take longer to compute the first time you do them\n",
    "\n",
    "UT1, for example, requires downloading a large table of Earth orientation information the first time you use it. Be patient."
   ]
  },
  {
   "cell_type": "code",
   "execution_count": 6,
   "metadata": {},
   "outputs": [
    {
     "name": "stdout",
     "output_type": "stream",
     "text": [
      "2020-09-15 14:35:59.824\n"
     ]
    }
   ],
   "source": [
    "print(my_time.ut1)"
   ]
  },
  {
   "cell_type": "markdown",
   "metadata": {},
   "source": [
    "#### Changing the format\n",
    "\n",
    "Changing the format is also straightforward; add the abbreviation for the format you want ([listed here](http://astropy.readthedocs.io/en/stable/time/index.html#time-format)) to the end of the variable name."
   ]
  },
  {
   "cell_type": "code",
   "execution_count": 7,
   "metadata": {},
   "outputs": [
    {
     "name": "stdout",
     "output_type": "stream",
     "text": [
      "Time in ISOT format: 2020-09-15T14:36:00.000\n",
      "Time in Julian Year format: 2020.706662103582\n"
     ]
    }
   ],
   "source": [
    "print(\"Time in ISOT format:\", my_time.isot)\n",
    "print(\"Time in Julian Year format:\", my_time.jyear)"
   ]
  },
  {
   "cell_type": "markdown",
   "metadata": {},
   "source": [
    "#### Changing the format and scale\n",
    "\n",
    "Both the format and the scale can be changed by combining the previous two operations, but the scale change must come before the format change, like this:"
   ]
  },
  {
   "cell_type": "code",
   "execution_count": 8,
   "metadata": {},
   "outputs": [
    {
     "name": "stdout",
     "output_type": "stream",
     "text": [
      "2459108.1091340557\n"
     ]
    }
   ],
   "source": [
    "print(my_time.tdb.jd)"
   ]
  },
  {
   "cell_type": "markdown",
   "metadata": {},
   "source": [
    "### Wait, no time zone support?\n",
    "\n",
    "Very briefly, no. This matters far less than might be expected because the times of interest are usually extracted from the header of a FITS file, in the UTC scale, in the ISOT format (or something close to it).\n",
    "\n",
    "A much longer but more complicated answer is yes; read [this documentation](http://astropy.readthedocs.io/en/stable/time/index.html#timezones) for details."
   ]
  },
  {
   "cell_type": "markdown",
   "metadata": {},
   "source": [
    "#### Julian Date and UTC do not mix\n",
    "\n",
    "Julian Date is a time format that is a little special: UTC times cannot sensibly be represented as Julian dates because not all UTC days have the same length.\n",
    "\n",
    "Unfortunately, astropy will give you a UTC in JD if you ask:"
   ]
  },
  {
   "cell_type": "code",
   "execution_count": 9,
   "metadata": {},
   "outputs": [
    {
     "name": "stdout",
     "output_type": "stream",
     "text": [
      "2459108.1083333334\n"
     ]
    }
   ],
   "source": [
    "print(my_time.jd)"
   ]
  },
  {
   "cell_type": "markdown",
   "metadata": {},
   "source": [
    "### Convert to TDB and THEN calculate the julian date...\n",
    "\n",
    "#### ...and specify the time scale chosen when you communicate your data!"
   ]
  },
  {
   "cell_type": "code",
   "execution_count": 10,
   "metadata": {},
   "outputs": [
    {
     "name": "stdout",
     "output_type": "stream",
     "text": [
      "2459108.1091340557\n",
      "59107.609134055616\n"
     ]
    }
   ],
   "source": [
    "print(my_time.tdb.jd)\n",
    "print(my_time.tdb.mjd)"
   ]
  },
  {
   "cell_type": "markdown",
   "metadata": {},
   "source": [
    "## Predicting the future\n",
    "\n",
    "Projects in this course will be focused on measuring *when* something happens (exoplanet transit, variable star maximum). The objects we will be looking at have been studied by others and for timing they report two numbers:\n",
    "\n",
    "+ Epoch -- a day/time at which the event has happened in the past.\n",
    "+ Period -- amount of time, typically in days, between repetitions of the event."
   ]
  },
  {
   "cell_type": "markdown",
   "metadata": {},
   "source": [
    "### Video summary of this section\n",
    "\n",
    "Video link: https://youtu.be/Wa8zwUsB1Po"
   ]
  },
  {
   "cell_type": "code",
   "execution_count": 11,
   "metadata": {},
   "outputs": [
    {
     "data": {
      "image/jpeg": "[encoded data removed]",
      "text/html": [
       "\n",
       "        <iframe\n",
       "            width=\"400\"\n",
       "            height=\"300\"\n",
       "            src=\"https://www.youtube.com/embed/Wa8zwUsB1Po\"\n",
       "            frameborder=\"0\"\n",
       "            allowfullscreen\n",
       "        ></iframe>\n",
       "        "
      ],
      "text/plain": [
       "<IPython.lib.display.YouTubeVideo at 0x7fb4caf27bb0>"
      ]
     },
     "execution_count": 11,
     "metadata": {},
     "output_type": "execute_result"
    }
   ],
   "source": [
    "YouTubeVideo('Wa8zwUsB1Po')"
   ]
  },
  {
   "cell_type": "markdown",
   "metadata": {},
   "source": [
    "### Example: predicting lunch time\n",
    "\n",
    "Suppose I eat lunch today at noon. If I eat lunch every 1.0417 days (25 hours) when will I next eat lunch?\n",
    "\n",
    "+ Epoch is noon CDT....in UTC that is: 2020-09-29T17:00:00\n",
    "+ Period is 1.0417 days\n",
    "\n",
    "Next lunch: 2020-09-30T18:00:00"
   ]
  },
  {
   "cell_type": "code",
   "execution_count": 12,
   "metadata": {},
   "outputs": [
    {
     "name": "stdout",
     "output_type": "stream",
     "text": [
      "2020-09-29T17:00:00.000\n"
     ]
    }
   ],
   "source": [
    "lunch_time = Time('2020-09-29T17:00:00')\n",
    "print(lunch_time)"
   ]
  },
  {
   "cell_type": "code",
   "execution_count": 13,
   "metadata": {},
   "outputs": [],
   "source": [
    "next_lunch = lunch_time + 1.0417"
   ]
  },
  {
   "cell_type": "code",
   "execution_count": 14,
   "metadata": {},
   "outputs": [
    {
     "data": {
      "text/plain": [
       "<Time object: scale='utc' format='isot' value=2020-09-30T18:00:02.880>"
      ]
     },
     "execution_count": 14,
     "metadata": {},
     "output_type": "execute_result"
    }
   ],
   "source": [
    "next_lunch"
   ]
  },
  {
   "cell_type": "markdown",
   "metadata": {},
   "source": [
    "#### Better way to add a day"
   ]
  },
  {
   "cell_type": "code",
   "execution_count": 15,
   "metadata": {},
   "outputs": [],
   "source": [
    "import astropy.units as u\n",
    "\n",
    "next_lunch = lunch_time + 1.0417 * u.day"
   ]
  },
  {
   "cell_type": "code",
   "execution_count": 16,
   "metadata": {},
   "outputs": [
    {
     "data": {
      "text/plain": [
       "<Time object: scale='utc' format='isot' value=2020-09-30T18:00:02.880>"
      ]
     },
     "execution_count": 16,
     "metadata": {},
     "output_type": "execute_result"
    }
   ],
   "source": [
    "next_lunch"
   ]
  },
  {
   "cell_type": "markdown",
   "metadata": {},
   "source": [
    "### Example: variable star V0440 Lac\n",
    "\n",
    "From https://www.aavso.org/vsx/index.php?view=detail.top&oid=17029 I get this information:\n",
    "\n",
    "+ Epoch: HJD 2456159.32 (Some time on August 19, 2012)\n",
    "+ Period: 0.650 d  (15.6 h)\n",
    "\n",
    "The epoch in this case is the time of maximum for this variable star.\n",
    "\n",
    "**Note:** the \"H\" at the beginning of \"HJD\" is important; it stands for \"heliocentric\". We will come back to it later.\n",
    "\n",
    "What is the next time of maximum after the epoch date?"
   ]
  },
  {
   "cell_type": "code",
   "execution_count": 17,
   "metadata": {},
   "outputs": [
    {
     "name": "stdout",
     "output_type": "stream",
     "text": [
      "2456159.9699999997\n"
     ]
    }
   ],
   "source": [
    "vsx_epoch = Time(2456159.32, scale='utc', format='jd')\n",
    "period = 0.650 * u.day\n",
    "print(vsx_epoch + period)"
   ]
  },
  {
   "cell_type": "markdown",
   "metadata": {},
   "source": [
    "When is the 5 fifth maximum after epoch be? Add 5 periods to the original epoch."
   ]
  },
  {
   "cell_type": "code",
   "execution_count": 18,
   "metadata": {},
   "outputs": [
    {
     "name": "stdout",
     "output_type": "stream",
     "text": [
      "2456162.57\n"
     ]
    }
   ],
   "source": [
    "print(vsx_epoch + 5 * period)"
   ]
  },
  {
   "cell_type": "code",
   "execution_count": 19,
   "metadata": {},
   "outputs": [
    {
     "data": {
      "text/plain": [
       "'2012-08-23T01:40:48.000'"
      ]
     },
     "execution_count": 19,
     "metadata": {},
     "output_type": "execute_result"
    }
   ],
   "source": [
    "fifth_vsx_max = vsx_epoch + 5 * period\n",
    "fifth_vsx_max.isot"
   ]
  },
  {
   "cell_type": "markdown",
   "metadata": {},
   "source": [
    "If we wanted to observe that with our telescope at what time + date would we need to be at the  telescope?\n",
    "\n",
    "\n",
    "2012-08-22 20:40:48"
   ]
  },
  {
   "cell_type": "code",
   "execution_count": 20,
   "metadata": {},
   "outputs": [
    {
     "data": {
      "text/plain": [
       "'2012-08-22T20:40:48.000'"
      ]
     },
     "execution_count": 20,
     "metadata": {},
     "output_type": "execute_result"
    }
   ],
   "source": [
    "(fifth_vsx_max - 5 *u.hour).isot"
   ]
  },
  {
   "cell_type": "markdown",
   "metadata": {},
   "source": [
    "### V0440 Lac continued: predicting upcoming maximums\n",
    "\n",
    "The formula for predicting maxima given an epoch, called $t_{\\text{epoch}}$ below, and a period, called $P$ below, is\n",
    "\n",
    "\\begin{equation}\n",
    "t_{\\text{future}} = t_{\\text{epoch}} + N * P\n",
    "\\end{equation}"
   ]
  },
  {
   "cell_type": "markdown",
   "metadata": {},
   "source": [
    "Let's use that to calculate some of the future maxima of V0440 Lac"
   ]
  },
  {
   "cell_type": "code",
   "execution_count": 21,
   "metadata": {},
   "outputs": [],
   "source": [
    "import numpy as np\n",
    "\n",
    "# You will need to change this value\n",
    "n_start = 4558\n",
    "\n",
    "# Make this an astropy time\n",
    "t_epoch = Time(2456159.32, scale='utc', format='jd')  \n",
    "\n",
    "# Fill in period below \n",
    "period = 0.650  * u.day\n",
    "\n",
    "n_end = n_start + 60\n",
    "\n",
    "future_events = t_epoch + period * np.arange(n_start, n_end)"
   ]
  },
  {
   "cell_type": "markdown",
   "metadata": {},
   "source": [
    "Need to find $N$ for roughly now."
   ]
  },
  {
   "cell_type": "code",
   "execution_count": 22,
   "metadata": {},
   "outputs": [],
   "source": [
    "t_now = Time(\"2020-09-29T14:56:00\")"
   ]
  },
  {
   "cell_type": "code",
   "execution_count": 23,
   "metadata": {},
   "outputs": [
    {
     "data": {
      "text/latex": [
       "$4558.1573 \\; \\mathrm{}$"
      ],
      "text/plain": [
       "<Quantity 4558.15730057>"
      ]
     },
     "execution_count": 23,
     "metadata": {},
     "output_type": "execute_result"
    }
   ],
   "source": [
    "(t_now - t_epoch) / period"
   ]
  },
  {
   "cell_type": "code",
   "execution_count": 24,
   "metadata": {},
   "outputs": [
    {
     "name": "stdout",
     "output_type": "stream",
     "text": [
      "4558 2020-09-29T12:28:46.000\n",
      "4559 2020-09-30T04:04:46.000\n",
      "4560 2020-09-30T19:40:46.000\n",
      "4561 2020-10-01T11:16:46.000\n",
      "4562 2020-10-02T02:52:46.000\n",
      "4563 2020-10-02T18:28:46.000\n",
      "4564 2020-10-03T10:04:46.000\n",
      "4565 2020-10-04T01:40:46.000\n",
      "4566 2020-10-04T17:16:46.000\n",
      "4567 2020-10-05T08:52:46.000\n",
      "4568 2020-10-06T00:28:46.000\n",
      "4569 2020-10-06T16:04:46.000\n",
      "4570 2020-10-07T07:40:46.000\n",
      "4571 2020-10-07T23:16:46.000\n",
      "4572 2020-10-08T14:52:46.000\n",
      "4573 2020-10-09T06:28:46.000\n",
      "4574 2020-10-09T22:04:46.000\n",
      "4575 2020-10-10T13:40:46.000\n",
      "4576 2020-10-11T05:16:46.000\n",
      "4577 2020-10-11T20:52:46.000\n",
      "4578 2020-10-12T12:28:46.000\n",
      "4579 2020-10-13T04:04:46.000\n",
      "4580 2020-10-13T19:40:46.000\n",
      "4581 2020-10-14T11:16:46.000\n",
      "4582 2020-10-15T02:52:46.000\n",
      "4583 2020-10-15T18:28:46.000\n",
      "4584 2020-10-16T10:04:46.000\n",
      "4585 2020-10-17T01:40:46.000\n",
      "4586 2020-10-17T17:16:46.000\n",
      "4587 2020-10-18T08:52:46.000\n",
      "4588 2020-10-19T00:28:46.000\n",
      "4589 2020-10-19T16:04:46.000\n",
      "4590 2020-10-20T07:40:46.000\n",
      "4591 2020-10-20T23:16:46.000\n",
      "4592 2020-10-21T14:52:46.000\n",
      "4593 2020-10-22T06:28:46.000\n",
      "4594 2020-10-22T22:04:46.000\n",
      "4595 2020-10-23T13:40:46.000\n",
      "4596 2020-10-24T05:16:46.000\n",
      "4597 2020-10-24T20:52:46.000\n",
      "4598 2020-10-25T12:28:46.000\n",
      "4599 2020-10-26T04:04:46.000\n",
      "4600 2020-10-26T19:40:46.000\n",
      "4601 2020-10-27T11:16:46.000\n",
      "4602 2020-10-28T02:52:46.000\n",
      "4603 2020-10-28T18:28:46.000\n",
      "4604 2020-10-29T10:04:46.000\n",
      "4605 2020-10-30T01:40:46.000\n",
      "4606 2020-10-30T17:16:46.000\n",
      "4607 2020-10-31T08:52:46.000\n",
      "4608 2020-11-01T00:28:46.000\n",
      "4609 2020-11-01T16:04:46.000\n",
      "4610 2020-11-02T07:40:46.000\n",
      "4611 2020-11-02T23:16:46.000\n",
      "4612 2020-11-03T14:52:46.000\n",
      "4613 2020-11-04T06:28:46.000\n",
      "4614 2020-11-04T22:04:46.000\n",
      "4615 2020-11-05T13:40:46.000\n",
      "4616 2020-11-06T05:16:46.000\n",
      "4617 2020-11-06T20:52:46.000\n"
     ]
    }
   ],
   "source": [
    "for event, n in zip(future_events, np.arange(n_start, n_end)):\n",
    "    print(n, event.isot)"
   ]
  },
  {
   "cell_type": "markdown",
   "metadata": {},
   "source": [
    "Suppose that the reported period for V0440 Lac is incorrect by 1 second.\n",
    "\n",
    "How many seconds is the time of maximum for the 4617th maximum after the epoch?\n",
    "\n",
    "4716 seconds, about 78 minutes, which is an easy time to measure."
   ]
  },
  {
   "cell_type": "code",
   "execution_count": 25,
   "metadata": {},
   "outputs": [
    {
     "data": {
      "text/plain": [
       "78.6"
      ]
     },
     "execution_count": 25,
     "metadata": {},
     "output_type": "execute_result"
    }
   ],
   "source": [
    "4716/60"
   ]
  },
  {
   "cell_type": "code",
   "execution_count": null,
   "metadata": {},
   "outputs": [],
   "source": []
  }
 ],
 "metadata": {
  "kernelspec": {
   "display_name": "Python 3",
   "language": "python",
   "name": "python3"
  },
  "language_info": {
   "codemirror_mode": {
    "name": "ipython",
    "version": 3
   },
   "file_extension": ".py",
   "mimetype": "text/x-python",
   "name": "python",
   "nbconvert_exporter": "python",
   "pygments_lexer": "ipython3",
   "version": "3.8.3"
  }
 },
 "nbformat": 4,
 "nbformat_minor": 4
}
