{
 "cells": [
  {
   "cell_type": "markdown",
   "metadata": {},
   "source": [
    "# 2020-09-08"
   ]
  },
  {
   "cell_type": "markdown",
   "metadata": {},
   "source": [
    "## What goes into the counts in a pixel?\n",
    "\n",
    "+ bias\n",
    "+ read noise\n",
    "+ dark current\n",
    "+ light from the sky\n",
    "+ light from stars, etc\n",
    "\n",
    "See: https://mwcraig.github.io/ccd-as-book/01-03-Construction-of-an-artificial-but-realistic-image.html"
   ]
  },
  {
   "cell_type": "markdown",
   "metadata": {},
   "source": [
    "### Questions to answer while exploring an artificial image\n",
    "\n",
    "The artificial image viewer is at https://mybinder.org/v2/gh/astropy/ccd-reduction-and-photometry-guide/master\n",
    "\n",
    "Go to `notebooks → Artificial image explorer.ipynb`\n",
    "\n",
    "+ Use the \"hot pixel\" checkbox to regenerate images.\n",
    "+ Only have one effect at a time turned on.\n",
    "\n",
    "\n",
    "1. Does the bias stay the same each time?\n",
    "    + Yes: Set read noise, dark current and sky to zero then every image I \"take\" looks the same.\n",
    "    \n",
    "2. Does the dark current stay the same each time?\n",
    "    + No: Dark current changes every time (even without read noise).\n",
    "\n",
    "3. What happens if you make the read noise very large?\n",
    "4. What if you make the read noise very small?"
   ]
  },
  {
   "cell_type": "code",
   "execution_count": null,
   "metadata": {},
   "outputs": [],
   "source": []
  }
 ],
 "metadata": {
  "kernelspec": {
   "display_name": "Python 3",
   "language": "python",
   "name": "python3"
  },
  "language_info": {
   "codemirror_mode": {
    "name": "ipython",
    "version": 3
   },
   "file_extension": ".py",
   "mimetype": "text/x-python",
   "name": "python",
   "nbconvert_exporter": "python",
   "pygments_lexer": "ipython3",
   "version": "3.8.3"
  }
 },
 "nbformat": 4,
 "nbformat_minor": 4
}
