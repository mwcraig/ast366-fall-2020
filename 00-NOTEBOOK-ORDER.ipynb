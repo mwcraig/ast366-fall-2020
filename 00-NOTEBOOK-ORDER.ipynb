{
 "cells": [
  {
   "cell_type": "markdown",
   "metadata": {},
   "source": [
    "# Notebooks to run\n",
    "\n",
    "+ Calibrate *(slow)* - `reduction.ipynb`\n",
    "+ Find the aperture radius  - `viewer-seeing-template`\n",
    "+ Identify comparison stars - `comp-star-plotter-template`\n",
    "+ Perform aperture photometry *(slow)* - `photometry-template`\n",
    "+ Calculate relative fluxes (first time) - `relative-flux-calculation-template`\n",
    "+ Re-calculate relative fluxes and look at rough plot of the night - `target-flux-plot-template`"
   ]
  },
  {
   "cell_type": "code",
   "execution_count": null,
   "metadata": {},
   "outputs": [],
   "source": []
  }
 ],
 "metadata": {
  "kernelspec": {
   "display_name": "Python 3",
   "language": "python",
   "name": "python3"
  },
  "language_info": {
   "codemirror_mode": {
    "name": "ipython",
    "version": 3
   },
   "file_extension": ".py",
   "mimetype": "text/x-python",
   "name": "python",
   "nbconvert_exporter": "python",
   "pygments_lexer": "ipython3",
   "version": "3.8.3"
  }
 },
 "nbformat": 4,
 "nbformat_minor": 4
}
