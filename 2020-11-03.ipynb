{
 "cells": [
  {
   "cell_type": "markdown",
   "metadata": {},
   "source": [
    "# 2020-11-03"
   ]
  },
  {
   "cell_type": "markdown",
   "metadata": {},
   "source": [
    "## Overview\n",
    "\n",
    "+ More about magnitudes\n",
    "+ Planning for tonight\n",
    "+ Re-run `comp-star-plotter` with updated template."
   ]
  },
  {
   "cell_type": "markdown",
   "metadata": {},
   "source": [
    "## Magnitudes\n",
    "\n",
    "+ The magnitude system is \"backwards\" in that bigger numbers mean a fainter object.\n",
    "+ The magnitude scale is logarithmic. A difference of 5 magnitudes is a factor of 100 in brightness.\n",
    "+ There are many different kinds of magnitudes: instruments, through a filter, bolometric, calibrated..."
   ]
  },
  {
   "cell_type": "markdown",
   "metadata": {},
   "source": [
    "Formula for *instrumental* magnitude:\n",
    "\n",
    "\\begin{equation}\n",
    "m_{\\text{inst}} = -2.5 \\log_{10}{(g N_{\\text{star}})}\n",
    "\\end{equation}\n",
    "\n",
    "where $g$ is the gain of the camera and $N_{\\text{star}}$ is the net counts in the star."
   ]
  },
  {
   "cell_type": "markdown",
   "metadata": {},
   "source": [
    "### Examples\n",
    "\n",
    "+ What is the instrumental magnitude for a star with 10,000 counts and gain of 1.5?\n",
    "+ What is the instrumental magnitude for a star with 20,000 counts and gain of 1.5?\n",
    "+ What is the instrumental magnitude for a star with 1,000,000 counts and gain of 1.5?\n",
    "\n"
   ]
  },
  {
   "cell_type": "markdown",
   "metadata": {},
   "source": [
    "## Tonight\n",
    "\n",
    "Potential targets (see our [google sheet](https://docs.google.com/spreadsheets/d/1Zto_W8VSaFUiChxArX6CwCZWzkBzGb3T3QuDz9AVWYE/edit?usp=sharing) for some ideas):\n",
    "\n",
    "+"
   ]
  },
  {
   "cell_type": "markdown",
   "metadata": {},
   "source": [
    "## Re-run comp star notebook (if time)"
   ]
  }
 ],
 "metadata": {
  "kernelspec": {
   "display_name": "Python 3",
   "language": "python",
   "name": "python3"
  },
  "language_info": {
   "codemirror_mode": {
    "name": "ipython",
    "version": 3
   },
   "file_extension": ".py",
   "mimetype": "text/x-python",
   "name": "python",
   "nbconvert_exporter": "python",
   "pygments_lexer": "ipython3",
   "version": "3.8.3"
  }
 },
 "nbformat": 4,
 "nbformat_minor": 4
}
