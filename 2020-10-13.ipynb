{
 "cells": [
  {
   "cell_type": "markdown",
   "metadata": {},
   "source": [
    "# 2020-10-13\n",
    "\n",
    "## Let's reduce some data!"
   ]
  },
  {
   "cell_type": "markdown",
   "metadata": {},
   "source": [
    "+ 2018-12-16 -- August\n",
    "+ 2019-06-01 -- Brett \n",
    "+ 2019-10-25 -- Emma\n",
    "+ 2020-06-24 -- Kayla\n",
    "+ 2020-07-01 -- Kristian \n",
    "+ 2020-07-26 -- Max \n",
    "+ 2020-08-11 -- Riley \n"
   ]
  }
 ],
 "metadata": {
  "kernelspec": {
   "display_name": "Python 3",
   "language": "python",
   "name": "python3"
  },
  "language_info": {
   "codemirror_mode": {
    "name": "ipython",
    "version": 3
   },
   "file_extension": ".py",
   "mimetype": "text/x-python",
   "name": "python",
   "nbconvert_exporter": "python",
   "pygments_lexer": "ipython3",
   "version": "3.8.3"
  }
 },
 "nbformat": 4,
 "nbformat_minor": 4
}
