{
 "cells": [
  {
   "cell_type": "markdown",
   "metadata": {},
   "source": [
    "# 2020-10-29"
   ]
  },
  {
   "cell_type": "markdown",
   "metadata": {},
   "source": [
    "## Overview\n",
    "\n",
    "+ Identifying comparison stars\n",
    "+ Looking up information about variable stars\n",
    "+ Astronomical magnitudes"
   ]
  },
  {
   "cell_type": "markdown",
   "metadata": {},
   "source": [
    "## Identifying comparison stars\n",
    "\n",
    "1. Make a copy of the \"comp-star-plotter-template.ipynb\" in your directory with calibrated data.\n",
    "2. Follow along as we go through the notebook together."
   ]
  },
  {
   "cell_type": "markdown",
   "metadata": {},
   "source": [
    "## Using VSX\n",
    "\n",
    "1. Go to [https://www.aavso.org/vsx/index.php?view=search.top](https://www.aavso.org/vsx/index.php?view=search.top) and put in the name of one of the variables in your exoplanet images.\n",
    "2. Write down the period, epoch, type: you will include this information in homework due nxthe week."
   ]
  },
  {
   "cell_type": "markdown",
   "metadata": {},
   "source": [
    "## Magnitudes"
   ]
  },
  {
   "cell_type": "code",
   "execution_count": null,
   "metadata": {},
   "outputs": [],
   "source": []
  }
 ],
 "metadata": {
  "kernelspec": {
   "display_name": "Python 3",
   "language": "python",
   "name": "python3"
  },
  "language_info": {
   "codemirror_mode": {
    "name": "ipython",
    "version": 3
   },
   "file_extension": ".py",
   "mimetype": "text/x-python",
   "name": "python",
   "nbconvert_exporter": "python",
   "pygments_lexer": "ipython3",
   "version": "3.8.3"
  }
 },
 "nbformat": 4,
 "nbformat_minor": 4
}
