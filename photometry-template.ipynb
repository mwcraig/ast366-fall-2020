{
 "cells": [
  {
   "cell_type": "code",
   "execution_count": null,
   "metadata": {},
   "outputs": [],
   "source": [
    "from pathlib import Path\n",
    "\n",
    "import numpy as np\n",
    "\n",
    "from astropy.nddata import CCDData\n",
    "from astropy.coordinates import SkyCoord, EarthLocation\n",
    "from astropy.table import Table\n",
    "from astropy.time import Time\n",
    "\n",
    "from stellarphot.photometry import *\n",
    "from stellarphot.source_detection import *\n",
    "from stellarphot import Camera"
   ]
  },
  {
   "cell_type": "markdown",
   "metadata": {},
   "source": [
    "## Settings are below "
   ]
  },
  {
   "cell_type": "code",
   "execution_count": null,
   "metadata": {},
   "outputs": [],
   "source": [
    "# A single dot means \"the folder this notebook is in\"\n",
    "folder_with_images = '.'\n",
    "\n",
    "# The file name below should be the one you made with the comp-star template\n",
    "# Its name should end .fits\n",
    "source_file_name = 'YOUR_FILE_NAME_HERE.fits'\n",
    "\n",
    "# Enter the aperture radius from the viewer seeing template here\n",
    "aperture = 10\n",
    "\n",
    "# Enter the name you want to give the photometry file, i.e. the file with star counts, here\n",
    "photometry_file = 'PICK_A_NAME.fits'\n",
    "\n",
    "# Enter the object name here\n",
    "object_name = 'TIC-470127886'"
   ]
  },
  {
   "cell_type": "markdown",
   "metadata": {},
   "source": [
    "### More settings (no need to change these typically)"
   ]
  },
  {
   "cell_type": "code",
   "execution_count": null,
   "metadata": {},
   "outputs": [],
   "source": [
    "inner_annulus = aperture + 15\n",
    "outer_annulus = inner_annulus + 15\n",
    "\n",
    "feder_cg_16m = Camera(gain=1.5, read_noise=10.0, dark_current=0.01)\n",
    "\n",
    "max_adu = 50000"
   ]
  },
  {
   "cell_type": "code",
   "execution_count": null,
   "metadata": {},
   "outputs": [],
   "source": [
    "image_directory = Path(folder_with_images)"
   ]
  },
  {
   "cell_type": "code",
   "execution_count": null,
   "metadata": {},
   "outputs": [],
   "source": [
    "sources = Table.read(source_file_name)"
   ]
  },
  {
   "cell_type": "code",
   "execution_count": null,
   "metadata": {},
   "outputs": [],
   "source": [
    "star_ra = sources['coord'].ra\n",
    "star_dec = sources['coord'].dec\n",
    "\n",
    "main_target_coords = sources[sources['id'] == 1]['coord']"
   ]
  },
  {
   "cell_type": "code",
   "execution_count": null,
   "metadata": {},
   "outputs": [],
   "source": [
    "photometry_table = photometry_on_directory(\n",
    "                        image_directory, object_name, \n",
    "                        (star_ra, star_dec), \n",
    "                        aperture, inner_annulus, outer_annulus, \n",
    "                        max_adu, sources['id'], \n",
    "                        feder_cg_16m,\n",
    "                        observatory_location='feder',\n",
    "                        bjd_coords=main_target_coords,\n",
    "                        fwhm_by_fit=False                \n",
    "                    )"
   ]
  },
  {
   "cell_type": "code",
   "execution_count": null,
   "metadata": {},
   "outputs": [],
   "source": []
  },
  {
   "cell_type": "code",
   "execution_count": null,
   "metadata": {},
   "outputs": [],
   "source": [
    "photometry_table.write(photometry_file, overwrite=True)"
   ]
  },
  {
   "cell_type": "code",
   "execution_count": null,
   "metadata": {},
   "outputs": [],
   "source": []
  }
 ],
 "metadata": {
  "kernelspec": {
   "display_name": "Python 3",
   "language": "python",
   "name": "python3"
  },
  "language_info": {
   "codemirror_mode": {
    "name": "ipython",
    "version": 3
   },
   "file_extension": ".py",
   "mimetype": "text/x-python",
   "name": "python",
   "nbconvert_exporter": "python",
   "pygments_lexer": "ipython3",
   "version": "3.8.3"
  }
 },
 "nbformat": 4,
 "nbformat_minor": 4
}
