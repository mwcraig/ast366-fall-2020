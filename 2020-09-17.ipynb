{
 "cells": [
  {
   "cell_type": "markdown",
   "metadata": {},
   "source": [
    "# 2020-09-17"
   ]
  },
  {
   "cell_type": "markdown",
   "metadata": {},
   "source": [
    "## Overview\n",
    "\n",
    "+ Some good astro news sources\n",
    "+ AMA \n",
    "+ Overscan region of the detector\n",
    "+ Overview of image calibration"
   ]
  },
  {
   "cell_type": "markdown",
   "metadata": {},
   "source": [
    "## A couple of good astronomy news sources\n",
    "\n",
    "+ [Bad Astronomy blog on SyFy Wire](https://www.syfy.com/tags/bad-astronomy)\n",
    "    - Can also follow [Phil Plait (@BadAstronomer) on Twitter](https://twitter.com/BadAstronomer)\n",
    "+ [Astronomy and observing news at Sky & Telescope](https://skyandtelescope.org/astronomy-news/)\n",
    "+ [Astronomy news on phys.org](https://phys.org/space-news/astronomy/)"
   ]
  },
  {
   "cell_type": "markdown",
   "metadata": {},
   "source": [
    "## AMA about homework \n",
    "\n",
    "Google doc for questions is at: https://docs.google.com/document/d/1qvN4h6szLrUoS3gl92eMgZCEGoUUEBaFH1zVBu5SEvk/edit?usp=sharing"
   ]
  },
  {
   "cell_type": "markdown",
   "metadata": {},
   "source": [
    "## Overscan region of the detector\n",
    "\n",
    "Take a look at either of this:\n",
    "\n",
    "+ Read-only version of Overscan description: https://mwcraig.github.io/ccd-as-book/01-08-Overscan.html\n",
    "+ To get to the executable version click this link, then navigate to notebook 01-08: http://bit.ly/ast366-ccd-guide"
   ]
  },
  {
   "cell_type": "markdown",
   "metadata": {},
   "source": [
    "## Summary of calibration steps and choices for our camera\n",
    "\n",
    "+ Overview is in these two sources:\n",
    "    - https://mwcraig.github.io/ccd-as-book/01-05-Calibration-overview.html\n",
    "    - https://mwcraig.github.io/ccd-as-book/01-09-Calibration-choices-you-need-to-make.html"
   ]
  },
  {
   "cell_type": "code",
   "execution_count": null,
   "metadata": {},
   "outputs": [],
   "source": []
  }
 ],
 "metadata": {
  "kernelspec": {
   "display_name": "Python 3",
   "language": "python",
   "name": "python3"
  },
  "language_info": {
   "codemirror_mode": {
    "name": "ipython",
    "version": 3
   },
   "file_extension": ".py",
   "mimetype": "text/x-python",
   "name": "python",
   "nbconvert_exporter": "python",
   "pygments_lexer": "ipython3",
   "version": "3.8.3"
  }
 },
 "nbformat": 4,
 "nbformat_minor": 4
}
