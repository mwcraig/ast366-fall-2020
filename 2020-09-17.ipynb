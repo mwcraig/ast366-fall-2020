{
 "cells": [
  {
   "cell_type": "markdown",
   "metadata": {},
   "source": [
    "# 2020-09-17"
   ]
  },
  {
   "cell_type": "markdown",
   "metadata": {},
   "source": [
    "## Overview\n",
    "\n",
    "+ Some good astro news sources\n",
    "+ AMA \n",
    "+ Overscan region of the detector\n",
    "+ Overview of image calibration"
   ]
  },
  {
   "cell_type": "markdown",
   "metadata": {},
   "source": [
    "## A couple of good astronomy news sources\n",
    "\n",
    "+ [Bad Astronomy blog on SyFy Wire](https://www.syfy.com/tags/bad-astronomy)\n",
    "    - Can also follow [Phil Plait (@BadAstronomer) on Twitter](https://twitter.com/BadAstronomer)\n",
    "+ [Astronomy and observing news at Sky & Telescope](https://skyandtelescope.org/astronomy-news/)\n",
    "+ [Astronomy news on phys.org](https://phys.org/space-news/astronomy/)"
   ]
  },
  {
   "cell_type": "markdown",
   "metadata": {},
   "source": [
    "## AMA about homework \n",
    "\n",
    "Google doc for questions is at: https://docs.google.com/document/d/1qvN4h6szLrUoS3gl92eMgZCEGoUUEBaFH1zVBu5SEvk/edit?usp=sharing"
   ]
  },
  {
   "cell_type": "markdown",
   "metadata": {},
   "source": [
    "I have a question with regards to #5. Mainly on what the procedure would be to find the error of each individual component (whether that would be simply finding the simple error of each given number or something else), and whether the combining process would be the same as using the square root of the sum of squares formula.\n",
    "\n",
    "> Suppose a particular pixel in our camera has read noise of 10 electrons, a sky background of 15 counts, dark current of 5 electrons and counts from a star of 900 counts. The gain of our camera is 1.5 electrons/count."
   ]
  },
  {
   "cell_type": "markdown",
   "metadata": {},
   "source": [
    "+ Read noise and dark current are in electrons, sky background and star light is in counts.\n",
    "+ Convert sky background by multiplying the gain. (Sky background is 22.5 electrons)\n",
    "+ To get error in each individual components except for the read noise use the $\\sqrt{N}$ formula.\n",
    "+ To combine the errors use the square root of sum of the squares formula."
   ]
  },
  {
   "cell_type": "markdown",
   "metadata": {},
   "source": [
    "To double check, when we calculate the combined pixel error, what units should we be using at that point?"
   ]
  },
  {
   "cell_type": "markdown",
   "metadata": {},
   "source": [
    "The unit for error is the same as the unit for number that you put in. The sky background is 22.5 electrons. The error is $\\sqrt{22.5}=4.7$ **electrons**."
   ]
  },
  {
   "cell_type": "markdown",
   "metadata": {},
   "source": [
    "### Video discussion of this section"
   ]
  },
  {
   "cell_type": "code",
   "execution_count": 1,
   "metadata": {},
   "outputs": [
    {
     "data": {
      "text/html": [
       "\n",
       "        <iframe\n",
       "            width=\"400\"\n",
       "            height=\"300\"\n",
       "            src=\"https://www.youtube.com/embed/s7ewPEEBIb0\"\n",
       "            frameborder=\"0\"\n",
       "            allowfullscreen\n",
       "        ></iframe>\n",
       "        "
      ],
      "text/plain": [
       "<IPython.lib.display.YouTubeVideo at 0x7f9fc0a4d340>"
      ]
     },
     "execution_count": 1,
     "metadata": {},
     "output_type": "execute_result"
    }
   ],
   "source": [
    "from IPython.display import YouTubeVideo\n",
    "YouTubeVideo('s7ewPEEBIb0')"
   ]
  },
  {
   "cell_type": "markdown",
   "metadata": {},
   "source": [
    "## Overscan region of the detector\n",
    "\n",
    "Take a look at either of this:\n",
    "\n",
    "+ Read-only version of Overscan description: https://mwcraig.github.io/ccd-as-book/01-08-Overscan.html\n",
    "+ To get to the executable version click this link, then navigate to notebook 01-08: http://bit.ly/ast366-ccd-guide"
   ]
  },
  {
   "cell_type": "markdown",
   "metadata": {},
   "source": [
    "### Video discussion of this section"
   ]
  },
  {
   "cell_type": "code",
   "execution_count": 2,
   "metadata": {},
   "outputs": [
    {
     "data": {
      "text/html": [
       "\n",
       "        <iframe\n",
       "            width=\"400\"\n",
       "            height=\"300\"\n",
       "            src=\"https://www.youtube.com/embed/7o72qDSKHEM\"\n",
       "            frameborder=\"0\"\n",
       "            allowfullscreen\n",
       "        ></iframe>\n",
       "        "
      ],
      "text/plain": [
       "<IPython.lib.display.YouTubeVideo at 0x7f9fa170c5e0>"
      ]
     },
     "execution_count": 2,
     "metadata": {},
     "output_type": "execute_result"
    }
   ],
   "source": [
    "YouTubeVideo('7o72qDSKHEM')"
   ]
  },
  {
   "cell_type": "markdown",
   "metadata": {},
   "source": [
    "## Summary of calibration steps and choices for our camera\n",
    "\n",
    "+ Overview is in these two sources:\n",
    "    - https://mwcraig.github.io/ccd-as-book/01-05-Calibration-overview.html\n",
    "    - https://mwcraig.github.io/ccd-as-book/01-09-Calibration-choices-you-need-to-make.html"
   ]
  },
  {
   "cell_type": "markdown",
   "metadata": {},
   "source": [
    "Calibration steps\n",
    "\n",
    "1. Reduce and combine bias images\n",
    "2. Reduce and combine dark images\n",
    "3. Reduce and combine flat images\n",
    "4. Reduce science images\n",
    "\n",
    "Reduce ↔ Calibrate\n",
    "\n",
    "Reduction ↔ Calibration"
   ]
  },
  {
   "cell_type": "markdown",
   "metadata": {},
   "source": [
    "### Calibrating and combining bias images\n",
    "\n",
    "1. Remove (trim) overscan region\n",
    "2. Optionally, subtract overscan (but **not** for our camera)\n",
    "3. Combine images\n",
    "    + Average the bias images\n",
    "    + Eliminate outlying values by doing sigma clipping"
   ]
  },
  {
   "cell_type": "markdown",
   "metadata": {},
   "source": [
    "### Calibrating and combining dark images\n",
    "\n",
    "1. Remove overscan region\n",
    "2. Optionally, subtract overscan (but **not** for our camera)\n",
    "3. Subtract the **combined** bias image from each dark image\n",
    "4. Combine dark images \n",
    "    + Average the dark images\n",
    "    + Use sigma clipping to exclude extreme values \n",
    "    + Group by exposure times"
   ]
  },
  {
   "cell_type": "markdown",
   "metadata": {},
   "source": [
    "#### More about sigma clipping\n",
    "\n",
    "Given the set of number below, sigma clipping is way to exclude extreme values when you do an average."
   ]
  },
  {
   "cell_type": "code",
   "execution_count": 1,
   "metadata": {},
   "outputs": [],
   "source": [
    "counts_in_pixel_23 = [1, 2, 3, 3, 4, 5, 6, 6, 6, 7, 10, 12, 13, 18, 19, 150]"
   ]
  },
  {
   "cell_type": "code",
   "execution_count": 2,
   "metadata": {},
   "outputs": [
    {
     "data": {
      "text/plain": [
       "16.5625"
      ]
     },
     "execution_count": 2,
     "metadata": {},
     "output_type": "execute_result"
    }
   ],
   "source": [
    "import numpy as np\n",
    "\n",
    "np.mean(counts_in_pixel_23)"
   ]
  },
  {
   "cell_type": "code",
   "execution_count": 3,
   "metadata": {},
   "outputs": [
    {
     "data": {
      "text/plain": [
       "7.666666666666667"
      ]
     },
     "execution_count": 3,
     "metadata": {},
     "output_type": "execute_result"
    }
   ],
   "source": [
    "np.mean(counts_in_pixel_23[:-1])"
   ]
  },
  {
   "cell_type": "markdown",
   "metadata": {},
   "source": [
    "Exclude extreme values from average.\n",
    "\n",
    "Outline of how it works:\n",
    "\n",
    "+ Calculate median value of numbers.\n",
    "+ Calculate absolute value of difference between each number and the median.\n",
    "+ Calcualte the median median of the differences.\n",
    "+ Divide each number's difference by the median difference."
   ]
  },
  {
   "cell_type": "markdown",
   "metadata": {},
   "source": [
    "### Calibrating and combining flat images\n",
    "\n",
    "Twilight flats each have a different exposure time, and small differences in average pixel counts.\n",
    "\n"
   ]
  },
  {
   "cell_type": "markdown",
   "metadata": {},
   "source": [
    "### Video discussion of this section"
   ]
  },
  {
   "cell_type": "code",
   "execution_count": 3,
   "metadata": {},
   "outputs": [
    {
     "data": {
      "text/html": [
       "\n",
       "        <iframe\n",
       "            width=\"400\"\n",
       "            height=\"300\"\n",
       "            src=\"https://www.youtube.com/embed/egyz1dEy5ao\"\n",
       "            frameborder=\"0\"\n",
       "            allowfullscreen\n",
       "        ></iframe>\n",
       "        "
      ],
      "text/plain": [
       "<IPython.lib.display.YouTubeVideo at 0x7f9fc10265b0>"
      ]
     },
     "execution_count": 3,
     "metadata": {},
     "output_type": "execute_result"
    }
   ],
   "source": [
    "YouTubeVideo('egyz1dEy5ao')"
   ]
  }
 ],
 "metadata": {
  "kernelspec": {
   "display_name": "Python 3",
   "language": "python",
   "name": "python3"
  },
  "language_info": {
   "codemirror_mode": {
    "name": "ipython",
    "version": 3
   },
   "file_extension": ".py",
   "mimetype": "text/x-python",
   "name": "python",
   "nbconvert_exporter": "python",
   "pygments_lexer": "ipython3",
   "version": "3.8.3"
  }
 },
 "nbformat": 4,
 "nbformat_minor": 4
}
