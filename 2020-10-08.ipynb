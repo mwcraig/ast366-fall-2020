{
 "cells": [
  {
   "cell_type": "markdown",
   "metadata": {},
   "source": [
    "# 2020-10-08"
   ]
  },
  {
   "cell_type": "markdown",
   "metadata": {},
   "source": [
    "## Put your predictions from last time here\n",
    "\n",
    "[https://docs.google.com/spreadsheets/d/1Zto_W8VSaFUiChxArX6CwCZWzkBzGb3T3QuDz9AVWYE/edit?usp=sharing](https://docs.google.com/spreadsheets/d/1Zto_W8VSaFUiChxArX6CwCZWzkBzGb3T3QuDz9AVWYE/edit?usp=sharing)"
   ]
  },
  {
   "cell_type": "markdown",
   "metadata": {},
   "source": [
    "## Your TESS object\n",
    "\n",
    "+ TIC-167031605 - Riley\n",
    "+ TIC-230088370 - Max\n",
    "+ TIC-233120979 - August\n",
    "+ tic-272758199 - Brett\n",
    "+ TIC-364186197 - Emma \n",
    "+ TIC-422656370 - Kristian \n",
    "+ TIC-470127886 - Matt\n",
    "+ TIC-083210867"
   ]
  },
  {
   "cell_type": "markdown",
   "metadata": {},
   "source": [
    "## Planning observations for this semester: TESS objects "
   ]
  },
  {
   "cell_type": "markdown",
   "metadata": {},
   "source": [
    "1. Update your copy of the planning notebook: [http://bit.ly/ast366-notes](http://bit.ly/ast366-notes)\n",
    "1. Make a copy of the planning template.\n",
    "1. Find coordinates or name for object we want to look at.\n",
    "    + Go to ExoFOP-TESS (see latest planning notebook for link)\n",
    "    + Under \"Basic Information\" near the top of the page, try using the first \"alias\" for the object name. If that doesn't work, try the second alias, etc. \n",
    "    + Using `TIC [number here]` *will not work.*\n",
    "2. Put those coordinates/name into planning notebook.\n",
    "3. Look up the epoch and period for object of interest and put those notebook.\n",
    "3. Use planning notebook to \n",
    "    + Determine when during year the object is up \n",
    "    + Determine which nights this semester the object has an eclipse and is visible.\n",
    "    + Make a visibility plot\n",
    "    + Make a finding chart."
   ]
  },
  {
   "cell_type": "code",
   "execution_count": 1,
   "metadata": {},
   "outputs": [],
   "source": [
    "from astrowidgets import ImageWidget"
   ]
  },
  {
   "cell_type": "code",
   "execution_count": 2,
   "metadata": {},
   "outputs": [
    {
     "data": {
      "application/vnd.jupyter.widget-view+json": {
       "model_id": "24cf98ce6c80478eb28337a8cf90f5b7",
       "version_major": 2,
       "version_minor": 0
      },
      "text/plain": [
       "ImageWidget(children=(Image(value=b'\\xff\\xd8\\xff\\xe0\\x00\\x10JFIF\\x00\\x01\\x01\\x00\\x00\\x01\\x00\\x01\\x00\\x00\\xff\\x…"
      ]
     },
     "metadata": {},
     "output_type": "display_data"
    }
   ],
   "source": [
    "iw = ImageWidget()\n",
    "iw"
   ]
  },
  {
   "cell_type": "code",
   "execution_count": 6,
   "metadata": {},
   "outputs": [
    {
     "name": "stderr",
     "output_type": "stream",
     "text": [
      "/Users/mattcraig/miniconda3/envs/stellarphot/lib/python3.8/site-packages/astropy/wcs/wcs.py:464: FITSFixedWarning: RADECSYS= 'FK5 ' \n",
      "the RADECSYS keyword is deprecated, use RADESYSa.\n",
      "  wcsprm = _wcs.Wcsprm(header=header_bytes, key=key,\n",
      "Error making callback 'cursor-changed': DEC (2820.992000) > 90.0\n",
      "Traceback:\n",
      "  File \"/Users/mattcraig/miniconda3/envs/stellarphot/lib/python3.8/site-packages/ginga/misc/Callback.py\", line 156, in _do_callbacks\n",
      "    res = method(*cb_args, **cb_kwargs)\n",
      "\n",
      "  File \"/Users/mattcraig/miniconda3/envs/stellarphot/lib/python3.8/site-packages/astrowidgets/core.py\", line 214, in _mouse_move_cb\n",
      "    raDegToString(ra), decDegToString(dec))\n",
      "\n",
      "  File \"/Users/mattcraig/miniconda3/envs/stellarphot/lib/python3.8/site-packages/ginga/util/wcs.py\", line 137, in decDegToString\n",
      "    sign, dec_degree, dec_min, dec_sec = degToDms(dec_deg)\n",
      "\n",
      "  File \"/Users/mattcraig/miniconda3/envs/stellarphot/lib/python3.8/site-packages/ginga/util/wcs.py\", line 81, in degToDms\n",
      "    assert dec <= 90, WCSError(\"DEC (%f) > 90.0\" % (dec))\n",
      "\n"
     ]
    }
   ],
   "source": [
    "iw.load_fits('2020-10-07/cs-cep-S001-R001-C001-rp_dupe-1.fts')"
   ]
  },
  {
   "cell_type": "code",
   "execution_count": null,
   "metadata": {},
   "outputs": [],
   "source": []
  }
 ],
 "metadata": {
  "kernelspec": {
   "display_name": "Python 3",
   "language": "python",
   "name": "python3"
  },
  "language_info": {
   "codemirror_mode": {
    "name": "ipython",
    "version": 3
   },
   "file_extension": ".py",
   "mimetype": "text/x-python",
   "name": "python",
   "nbconvert_exporter": "python",
   "pygments_lexer": "ipython3",
   "version": "3.8.3"
  }
 },
 "nbformat": 4,
 "nbformat_minor": 4
}
