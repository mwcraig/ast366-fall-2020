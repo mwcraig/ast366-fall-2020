{
 "cells": [
  {
   "cell_type": "markdown",
   "metadata": {},
   "source": [
    "# 2020-11-05"
   ]
  },
  {
   "cell_type": "markdown",
   "metadata": {},
   "source": [
    "## Overview of remainder of semester \n",
    "\n",
    "+ Sort nights we move forward with into folders by object\n",
    "    + One folder for each group of images \n",
    "+ Process new nights\n",
    "    + Review night\n",
    "    + Calibrate night\n",
    "    + Sort night, if needed\n",
    "+ Run comp star notebook for each group\n",
    "+ Generate list of variable stars in each \n",
    "+ Do photometry on that group \n",
    "+ Translate raw counts into meaningful measurements\n",
    "+ Graph and comment"
   ]
  }
 ],
 "metadata": {
  "kernelspec": {
   "display_name": "Python 3",
   "language": "python",
   "name": "python3"
  },
  "language_info": {
   "codemirror_mode": {
    "name": "ipython",
    "version": 3
   },
   "file_extension": ".py",
   "mimetype": "text/x-python",
   "name": "python",
   "nbconvert_exporter": "python",
   "pygments_lexer": "ipython3",
   "version": "3.8.3"
  }
 },
 "nbformat": 4,
 "nbformat_minor": 4
}
