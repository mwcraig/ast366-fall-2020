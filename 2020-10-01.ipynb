{
 "cells": [
  {
   "cell_type": "markdown",
   "metadata": {},
   "source": [
    "# 2020-10-01"
   ]
  },
  {
   "cell_type": "markdown",
   "metadata": {},
   "source": [
    "## Calibration error assignment\n",
    "\n",
    "You will be put in a breakout room in a moment.\n",
    "\n",
    "+ If you have a \"bad\" image to share, please share it in your room and talk about what the \"mistake\" was.\n",
    "+ If you had trouble generating a bad image ask for help in your breakout room.\n"
   ]
  },
  {
   "cell_type": "markdown",
   "metadata": {},
   "source": [
    "## More about planning observations"
   ]
  },
  {
   "cell_type": "markdown",
   "metadata": {},
   "source": [
    "### Resources for planning observations\n",
    "\n",
    "This notebook contains a short overview of some of the tools for planning observations. It is not (yet) a detailed, step-by-step cookbook."
   ]
  },
  {
   "cell_type": "markdown",
   "metadata": {},
   "source": [
    "### Before you start\n",
    "\n",
    "Pick an object you are interested in (e.g. M34, an open cluster, or Kelt-1, a star which has an exoplanet orbiting around it) that is **not in our solar system**. Objects in our solar system, like an asteroid, need a little more care because their position changes with time.\n",
    "\n",
    "You will, shortly, try looking up information about the object. If the first attempt at lookup fails, consider switching to a different object."
   ]
  },
  {
   "cell_type": "markdown",
   "metadata": {},
   "source": [
    "### Links to Resources\n",
    "\n",
    "1. Information about the Paul P. Feder Observatory is at the observatory blog; of particular importance later in this activity are the longitude, latitude and elevation: [http://astronomy.mnstate.edu/Feder_Observatory/](http://astronomy.mnstate.edu/Feder_Observatory/)\n",
    "\n",
    "1. Simbad is the go-to source for basic information like coordinates or magnitude of an object. It is at: [http://simbad.u-strasbg.fr/simbad/](http://simbad.u-strasbg.fr/simbad/). There are several ways you can look up information but the examples below will all use a [basic identifier search](http://simbad.u-strasbg.fr/simbad/sim-fbasic).\n",
    "\n",
    "2. The [American Association of Variable Star Observers](http://aavso.org) (AAVSO) finder charts are a quick way to generate a finding chart for many objects (it is also possible to do something similar in simbad, but the AAVSO site is easier to use for that). You can find charts here for many objects that are not variable stars. The form for generating finding charts is at: https://www.aavso.org/apps/vsp/\n",
    "\n",
    "3. The AAVSO's [Variable Star Index (VSX)](https://www.aavso.org/vsx/index.php?view=search.top) has, for many variable stars, both basic information about the star and predictions of the time at which the maximum brightness (for a pulsating variable) or primary eclipse (for an eclipsing binary) will occur over the following few days.\n",
    "\n",
    "3. The [Exoplanet Transit Database](http://var2.astro.cz/ETD/index.php) has both predictions of when exoplanet transits will occur (though you have to provide the latitude and longitude of the observatory) and finding charts.\n",
    "\n",
    "3. There are (at least) a couple of options for checking whether a specific object is visible on a specific night. One is [JSkyCalc](http://www.dartmouth.edu/~physics/labs/skycalc/flyer.html), which has the virtues of being free and running on any computer that has Java. It is a little difficult to use the interface and you will need to add information (lat/lon/elevation) about our observatory. Another is [astroplan](https://astroplan.readthedocs.io/en/latest/), a python-based solution demonstrated below. It is also free, and requires information about the site, and requires you to be comfortable enough with a computer to be willing to modify the example code below.\n",
    "\n",
    "It is also possible to look up information from some of these sources from directly from a notebook like this one using [astroquery](http://astroquery.readthedocs.io/en/latest/), but this typically takes at least a little programming. A simple example will be shown below, though.\n"
   ]
  },
  {
   "cell_type": "markdown",
   "metadata": {},
   "source": [
    "### Example object: the variable star EY UMa\n",
    "\n",
    "There is nothing particularly special about this star; it simply happens to be one that has been observed at Feder Observatory.\n",
    "\n",
    "### Goal: find a night in Fall 2018 when EY UMa is visible and has a maximum \n",
    "\n",
    "### Get some basic information about the object\n",
    "\n",
    "If you go to the [simbad basic identifier search form](http://simbad.u-strasbg.fr/simbad/sim-fbasic) and enter `ey uma` (capitalization is ignored) then you should see something like this:\n",
    "\n",
    "![Screen capture of simbad information for ey uma](media/simbad-ey-uma.png)"
   ]
  },
  {
   "cell_type": "markdown",
   "metadata": {},
   "source": [
    "The information returned includes the coordinates of EY UMa in several formats (RA/Dec in ICRS, FK5 and FK4, and the galactic coordinates of EY UMa) and the flux (i.e. amount of light) through several filters (B, V, ..., i, z) expressed as magnitudes, along with the measurement errors (where available), and the source for the flux. \n",
    "\n",
    "Further down on the page are listings of some of the other identifiers of this object. For example, one of several \"aliases\" for EY UMa is `CSS J090220.7+494909`. CSS is an acronym for the Catalina Sky Survey, and `J090220.7+494909` is the identifier (which in this case is based on the coordinates of the star) assigned to this star by the CSS folks.\n",
    "\n",
    "There are also links to any academic papers that have menitoned EY UMa and to online data sources for EY UMa that simbad is aware of.\n",
    "\n",
    "While it is possible to make plots of the region of the sky using some of the links on the simbad results page, the interface is rich enough that it takes a nontrivial time investment to figure out how to use it."
   ]
  },
  {
   "cell_type": "markdown",
   "metadata": {},
   "source": [
    "### Is EY UMa *ever* visible from the Feder Observatory?\n",
    "\n",
    "Objects which are too far south are never visible from Feder Observatory, or at least are never far enough above the horizon to be practical to observe.\n",
    "\n",
    "The *highest* an object will ever be in the sky is at an altitude of \n",
    "$$\n",
    "a_{max} = 90^\\circ - \\text{latitude} + \\text{declination}\n",
    "$$\n",
    "above the *southern* horizon, and, as a rough rule of thumb, you should only do science with images of objects more than $30^\\circ$ above the horizon. \n",
    "\n",
    "The latitude of Feder Observatory is (*very* roughly) 47$^\\circ$, and the declination of EY UMa is roughly 50$^\\circ$, so the maximum altitude EY UMa ever reaches is $a_{max} = 90^\\circ - 47^\\circ + 50^\\circ = 93^\\circ$, a little north of directly overhead, so well above the $30^\\circ$ rule-of-thumb. \n",
    "\n",
    "Based on this, there should be at least *some* nights we can observe EY UMa.\n",
    "\n",
    "*Note:* it is of course possible to take images of objects closer to the horizon than 30 degrees. The challenge is accurately taking into account atmospheric effects that close to the horizon, especially in a low-altitude location in a region where atmospheric conditions often vary quite significantly over a distance of 10-20 miles. "
   ]
  },
  {
   "cell_type": "code",
   "execution_count": 1,
   "metadata": {},
   "outputs": [
    {
     "data": {
      "text/plain": [
       "43"
      ]
     },
     "execution_count": 1,
     "metadata": {},
     "output_type": "execute_result"
    }
   ],
   "source": [
    "90 - 47"
   ]
  },
  {
   "cell_type": "markdown",
   "metadata": {},
   "source": [
    "An object with declination -43 is at the horizon"
   ]
  },
  {
   "cell_type": "markdown",
   "metadata": {},
   "source": [
    "If minimum altitude for observing is 40 degrees what declination is that?\n",
    "\n",
    "-3 degrees"
   ]
  }
 ],
 "metadata": {
  "kernelspec": {
   "display_name": "Python 3",
   "language": "python",
   "name": "python3"
  },
  "language_info": {
   "codemirror_mode": {
    "name": "ipython",
    "version": 3
   },
   "file_extension": ".py",
   "mimetype": "text/x-python",
   "name": "python",
   "nbconvert_exporter": "python",
   "pygments_lexer": "ipython3",
   "version": "3.8.3"
  }
 },
 "nbformat": 4,
 "nbformat_minor": 4
}
