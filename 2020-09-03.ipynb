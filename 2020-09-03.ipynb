{
 "cells": [
  {
   "cell_type": "code",
   "execution_count": 1,
   "metadata": {},
   "outputs": [],
   "source": [
    "from astrowidgets import ImageWidget\n",
    "from IPython.display import YouTubeVideo, Image"
   ]
  },
  {
   "cell_type": "markdown",
   "metadata": {},
   "source": [
    "# 2020-09-03: More about images and noise\n",
    "\n",
    "By the end of today you should be able to\n",
    "\n",
    "+ Describe some of the sources of noise in an image.\n",
    "+ Describe how to turn a pixel value into a measurement of light from a star.\n",
    "+ Calculate the error in the measurement of light in a single pixel, including Poisson noise from the target (star in this case), read noise, and light from the sky.\n",
    "\n",
    "Link to today's Ask Me Anything (AMA) questions: https://docs.google.com/document/d/1uUoiv9WHJjGVnzE9rm8MCWKHJUPBLpl-Khy56lpdE6s/edit?usp=sharing"
   ]
  },
  {
   "cell_type": "markdown",
   "metadata": {},
   "source": [
    "## AMA\n",
    "\n",
    "1. I have a question related to the calculation of energy relative to wavelength, as used in question #2 in the homework. Conversion from Joules to Watts, how does time fit in. Equation from the book for energy was\n",
    "\n",
    "$$\n",
    "E \\text{(in units of eV)} = \\frac{12407}{\\lambda \\text{(in units of Angstroms)}}\n",
    "$$\n",
    "\n",
    "For example, if $\\lambda = 100$ Angstroms, then\n",
    "\n",
    "$$\n",
    "E = \\frac{12407}{100} = 124.07 \\text{eV}.\n",
    "$$\n",
    "\n",
    "### Another way to get there\n",
    "\n",
    "This won't be familiar unless you have taken some physics courses:\n",
    "\n",
    "$$\n",
    "E = \\frac{hc}{\\lambda}\n",
    "$$\n"
   ]
  },
  {
   "cell_type": "markdown",
   "metadata": {},
   "source": [
    "### Why are there different versions of the same formula in different books?\n",
    "\n",
    "Often it is because of different units or different arrangement of the numerical factors in the equation.\n"
   ]
  },
  {
   "cell_type": "markdown",
   "metadata": {},
   "source": [
    "2. With regard to question #3, from the partial diagrams in the Howell reading, I’m not entirely sure how to accurately visualize the CCD structure in order to draw it.\n",
    "\n",
    "This does not need to be a great drawing; explain how you understand the CCD reads off measurements of charge."
   ]
  },
  {
   "cell_type": "markdown",
   "metadata": {},
   "source": [
    "## Extended discussion of how CCDs work"
   ]
  },
  {
   "cell_type": "code",
   "execution_count": 5,
   "metadata": {},
   "outputs": [
    {
     "data": {
      "image/jpeg": "[encoded data removed]",
      "text/html": [
       "\n",
       "        <iframe\n",
       "            width=\"400\"\n",
       "            height=\"300\"\n",
       "            src=\"https://www.youtube.com/embed/rsPBnM4cG90\"\n",
       "            frameborder=\"0\"\n",
       "            allowfullscreen\n",
       "        ></iframe>\n",
       "        "
      ],
      "text/plain": [
       "<IPython.lib.display.YouTubeVideo at 0x7ff56109aa60>"
      ]
     },
     "execution_count": 5,
     "metadata": {},
     "output_type": "execute_result"
    }
   ],
   "source": [
    "YouTubeVideo('rsPBnM4cG90')"
   ]
  },
  {
   "cell_type": "markdown",
   "metadata": {},
   "source": [
    "### Example of a column defect in a CCD image\n",
    "\n",
    "The image below is a type of image called a bias image. It contains, in the left 1/3 of the image a line that corresponding to a single column in the CCD chip.\n",
    "\n",
    "![Bias image from Feder camera](http://physics.mnstate.edu/feder_gallery/2020-06-27/Bias-S001-R001-C008-NoFilt.jpg)"
   ]
  },
  {
   "cell_type": "markdown",
   "metadata": {},
   "source": [
    "### \"E\" notation in numbers"
   ]
  },
  {
   "cell_type": "code",
   "execution_count": 17,
   "metadata": {},
   "outputs": [
    {
     "data": {
      "text/plain": [
       "5e-10"
      ]
     },
     "execution_count": 17,
     "metadata": {},
     "output_type": "execute_result"
    }
   ],
   "source": [
    "0.0000000005"
   ]
  },
  {
   "cell_type": "markdown",
   "metadata": {},
   "source": [
    "`5e-10` is shorthand for $5\\times 10^{-10}$."
   ]
  },
  {
   "cell_type": "code",
   "execution_count": 18,
   "metadata": {},
   "outputs": [
    {
     "data": {
      "text/plain": [
       "1.5e-20"
      ]
     },
     "execution_count": 18,
     "metadata": {},
     "output_type": "execute_result"
    }
   ],
   "source": [
    "1.471224e-20\n",
    "\n",
    "1.5e-20"
   ]
  },
  {
   "cell_type": "markdown",
   "metadata": {},
   "source": [
    "## Set up image viewer and load an image for use later"
   ]
  },
  {
   "cell_type": "code",
   "execution_count": 4,
   "metadata": {},
   "outputs": [
    {
     "data": {
      "application/vnd.jupyter.widget-view+json": {
       "model_id": "f809dcd8ac084a12b1b9eb8e26827242",
       "version_major": 2,
       "version_minor": 0
      },
      "text/plain": [
       "ImageWidget(children=(Image(value=b'\\xff\\xd8\\xff\\xe0\\x00\\x10JFIF\\x00\\x01\\x01\\x00\\x00\\x01\\x00\\x01\\x00\\x00\\xff\\x…"
      ]
     },
     "metadata": {},
     "output_type": "display_data"
    }
   ],
   "source": [
    "iw = ImageWidget(image_height=500, image_width=500)\n",
    "iw"
   ]
  },
  {
   "cell_type": "code",
   "execution_count": 5,
   "metadata": {},
   "outputs": [],
   "source": [
    "iw.load_fits('TIC_470127886.01-S001-R001-C001-rp.fit')"
   ]
  },
  {
   "cell_type": "code",
   "execution_count": 19,
   "metadata": {},
   "outputs": [],
   "source": [
    "iw.zoom_level = 'fit'"
   ]
  },
  {
   "cell_type": "markdown",
   "metadata": {},
   "source": [
    "## Questions for us to answer\n",
    "\n",
    "1. What is the typical pixel value in a part of the image where there is no star visible?\n",
    "2. What contributes to the counts in that pixel?\n"
   ]
  },
  {
   "cell_type": "code",
   "execution_count": null,
   "metadata": {},
   "outputs": [],
   "source": []
  }
 ],
 "metadata": {
  "kernelspec": {
   "display_name": "Python 3",
   "language": "python",
   "name": "python3"
  },
  "language_info": {
   "codemirror_mode": {
    "name": "ipython",
    "version": 3
   },
   "file_extension": ".py",
   "mimetype": "text/x-python",
   "name": "python",
   "nbconvert_exporter": "python",
   "pygments_lexer": "ipython3",
   "version": "3.8.3"
  }
 },
 "nbformat": 4,
 "nbformat_minor": 4
}
