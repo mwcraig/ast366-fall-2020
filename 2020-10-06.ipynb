{
 "cells": [
  {
   "cell_type": "markdown",
   "metadata": {},
   "source": [
    "# 2020-10-06\n",
    "\n",
    "## Planning observations for this semester "
   ]
  },
  {
   "cell_type": "markdown",
   "metadata": {},
   "source": [
    "1. Find coordinates or name for object we want to look at.\n",
    "2. Put those coordinates into planning notebook.\n",
    "3. Look up the epoch and period for object of interest and put those notebook.\n",
    "3. Use planning notebook to \n",
    "    + Determine when during year the object is up \n",
    "    + Determine which nights this semester the object has an eclipse and is visible.\n",
    "    + Make a visibility plot\n",
    "    + Make a finding chart."
   ]
  }
 ],
 "metadata": {
  "kernelspec": {
   "display_name": "Python 3",
   "language": "python",
   "name": "python3"
  },
  "language_info": {
   "codemirror_mode": {
    "name": "ipython",
    "version": 3
   },
   "file_extension": ".py",
   "mimetype": "text/x-python",
   "name": "python",
   "nbconvert_exporter": "python",
   "pygments_lexer": "ipython3",
   "version": "3.8.3"
  }
 },
 "nbformat": 4,
 "nbformat_minor": 4
}
