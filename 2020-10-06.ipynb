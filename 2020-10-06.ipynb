{
 "cells": [
  {
   "cell_type": "markdown",
   "metadata": {},
   "source": [
    "# 2020-10-06\n",
    "\n",
    "## Planning observations for this semester "
   ]
  },
  {
   "cell_type": "code",
   "execution_count": 2,
   "metadata": {},
   "outputs": [
    {
     "ename": "NameError",
     "evalue": "name 'apo' is not defined",
     "output_type": "error",
     "traceback": [
      "\u001b[0;31m---------------------------------------------------------------------------\u001b[0m",
      "\u001b[0;31mNameError\u001b[0m                                 Traceback (most recent call last)",
      "\u001b[0;32m<ipython-input-2-7582ac3b8439>\u001b[0m in \u001b[0;36m<module>\u001b[0;34m\u001b[0m\n\u001b[1;32m      9\u001b[0m                LocalTimeConstraint(min=min_local_time, max=max_local_time)]\n\u001b[1;32m     10\u001b[0m \u001b[0;34m\u001b[0m\u001b[0m\n\u001b[0;32m---> 11\u001b[0;31m \u001b[0mis_event_observable\u001b[0m\u001b[0;34m(\u001b[0m\u001b[0mconstraints\u001b[0m\u001b[0;34m,\u001b[0m \u001b[0mapo\u001b[0m\u001b[0;34m,\u001b[0m \u001b[0mtarget\u001b[0m\u001b[0;34m,\u001b[0m \u001b[0mtimes\u001b[0m\u001b[0;34m=\u001b[0m\u001b[0mmidtransit_times\u001b[0m\u001b[0;34m)\u001b[0m\u001b[0;34m\u001b[0m\u001b[0;34m\u001b[0m\u001b[0m\n\u001b[0m",
      "\u001b[0;31mNameError\u001b[0m: name 'apo' is not defined"
     ]
    }
   ],
   "source": [
    "from astroplan import (PrimaryEclipseConstraint, is_event_observable,\n",
    "                       AtNightConstraint, AltitudeConstraint, LocalTimeConstraint)\n",
    "import datetime as dt\n",
    "import astropy.units as u\n",
    "min_local_time = dt.time(19, 0)  # 19:00 local time at APO (7pm)\n",
    "max_local_time = dt.time(0, 0)  # 00:00 local time at APO (midnight)\n",
    "constraints = [AtNightConstraint.twilight_civil(),\n",
    "               AltitudeConstraint(min=30*u.deg),\n",
    "               LocalTimeConstraint(min=min_local_time, max=max_local_time)]\n",
    "\n",
    "is_event_observable(constraints, apo, target, times=midtransit_times)"
   ]
  },
  {
   "cell_type": "code",
   "execution_count": null,
   "metadata": {},
   "outputs": [],
   "source": []
  }
 ],
 "metadata": {
  "kernelspec": {
   "display_name": "Python 3",
   "language": "python",
   "name": "python3"
  },
  "language_info": {
   "codemirror_mode": {
    "name": "ipython",
    "version": 3
   },
   "file_extension": ".py",
   "mimetype": "text/x-python",
   "name": "python",
   "nbconvert_exporter": "python",
   "pygments_lexer": "ipython3",
   "version": "3.8.3"
  }
 },
 "nbformat": 4,
 "nbformat_minor": 4
}
