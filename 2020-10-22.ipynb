{
 "cells": [
  {
   "cell_type": "markdown",
   "metadata": {},
   "source": [
    "# 2020-10-22"
   ]
  },
  {
   "cell_type": "markdown",
   "metadata": {},
   "source": [
    "## Estimating error\n",
    "\n",
    "1. Make a *new* notebook in the same folder as your data. \n",
    "    + Go to menu \"File → New → Notebook\" OR Click the \"+\" above the folder view.\n",
    "2. Copy and paste this code into the notebook. Once you have done that, put in to name of one of your files.\n",
    "\n",
    "```python\n",
    "from astrowidgets import ImageWidget\n",
    "from stellarphot.visualization.seeing_profile_functions import *\n",
    "\n",
    "iw = ImageWidget(image_width=500, image_height=500, use_opencv=True)\n",
    "set_keybindings(iw, scroll_zoom=False)\n",
    "\n",
    "iw.load_fits('ONE OF YOUR FILES HERE!')\n",
    "iw\n",
    "```\n",
    " \n",
    "3. Zoom in on a star near the center. Zoom in using `+`, out using `-`\n",
    "4. Mouse over a pixel in the star and write down its value. Mouse over a pixel near the star (i.e. background pixel) and write down its value.\n",
    "5. For the star you chose answer these questions(the gain of our camera is 1.5 electron/count):\n",
    "    1. How big is the error due to the star?\n",
    "    1. How big is the error due to the sky background?\n",
    "    1. How big is the error due to the dark current (roughly 0.01 electron/sec/pixel)?\n",
    "    2. How big is the error due to the read noise? Our camera's read noise is 10 electrons."
   ]
  },
  {
   "cell_type": "code",
   "execution_count": null,
   "metadata": {},
   "outputs": [],
   "source": []
  }
 ],
 "metadata": {
  "kernelspec": {
   "display_name": "Python 3",
   "language": "python",
   "name": "python3"
  },
  "language_info": {
   "codemirror_mode": {
    "name": "ipython",
    "version": 3
   },
   "file_extension": ".py",
   "mimetype": "text/x-python",
   "name": "python",
   "nbconvert_exporter": "python",
   "pygments_lexer": "ipython3",
   "version": "3.8.3"
  }
 },
 "nbformat": 4,
 "nbformat_minor": 4
}
