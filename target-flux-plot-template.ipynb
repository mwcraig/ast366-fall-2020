{
 "cells": [
  {
   "cell_type": "code",
   "execution_count": null,
   "metadata": {},
   "outputs": [],
   "source": [
    "%load_ext autoreload\n",
    "%autoreload 2"
   ]
  },
  {
   "cell_type": "code",
   "execution_count": null,
   "metadata": {},
   "outputs": [],
   "source": [
    "import numpy as np\n",
    "\n",
    "from astropy.table import Table\n",
    "from astropy import units as u\n",
    "from astropy.time import Time\n",
    "\n",
    "from matplotlib import pyplot as plt\n",
    "\n",
    "from stellarphot.differential_photometry.aij_rel_fluxes import calc_aij_relative_flux"
   ]
  },
  {
   "cell_type": "code",
   "execution_count": null,
   "metadata": {},
   "outputs": [],
   "source": [
    "flux_file = 'relative_flux-kelt-1.fits'\n",
    "aperture_file = 'aperture_locations.fits'\n",
    "filter_bassband = 'r'"
   ]
  },
  {
   "cell_type": "code",
   "execution_count": null,
   "metadata": {},
   "outputs": [],
   "source": [
    "phot = Table.read(flux_file)\n",
    "aperture_locations = Table.read(aperture_file)"
   ]
  },
  {
   "cell_type": "code",
   "execution_count": null,
   "metadata": {},
   "outputs": [],
   "source": [
    "target_star = phot['id'] == 1"
   ]
  },
  {
   "cell_type": "code",
   "execution_count": null,
   "metadata": {},
   "outputs": [],
   "source": [
    "band_filter = phot['filter'] == filter_bassband\n",
    "\n",
    "target_and_filter = target_star & band_filter"
   ]
  },
  {
   "cell_type": "markdown",
   "metadata": {},
   "source": [
    "## When is this event supposed to happen?\n",
    "\n",
    "You will need to look up the epoch/period for your object. If it is a TIC object use [ExoFOP-TESS](https://exofop.ipac.caltech.edu/tess/) to do that. If it is not a TIC object use the [NASA Exoplanet Archive](https://exoplanetarchive.ipac.caltech.edu/) or the [Exoplanet Transit Database](http://var2.astro.cz/ETD/).\n",
    "\n",
    "In both cases you will be calculating the time of mid-transit."
   ]
  },
  {
   "cell_type": "code",
   "execution_count": null,
   "metadata": {},
   "outputs": [],
   "source": [
    "# Enter your object's period here\n",
    "period = 1.217494 * u.day\n",
    "\n",
    "# Enter the epoch here\n",
    "epoch = Time(2456583.78435, scale='tdb', format='jd')\n",
    "\n",
    "# No changes to the line below, it is grabbing the first time in the data series\n",
    "then = Time(phot['BJD'][target_star][0], scale='tdb', format='jd')"
   ]
  },
  {
   "cell_type": "code",
   "execution_count": null,
   "metadata": {},
   "outputs": [],
   "source": [
    "cycle_number = np.int((then - epoch) / period + 1)\n",
    "cycle_number"
   ]
  },
  {
   "cell_type": "code",
   "execution_count": null,
   "metadata": {},
   "outputs": [],
   "source": [
    "that_transit = cycle_number * period + epoch\n",
    "that_transit"
   ]
  },
  {
   "cell_type": "code",
   "execution_count": null,
   "metadata": {},
   "outputs": [],
   "source": [
    "phot_one_filter_only = phot[band_filter]"
   ]
  },
  {
   "cell_type": "markdown",
   "metadata": {},
   "source": [
    "## Check for and remove any comparison stars that are \"bad\"\n",
    "\n",
    "Bad here means that their net counts is `NaN`. This can happen if the star is very faint or near the edge of the image."
   ]
  },
  {
   "cell_type": "code",
   "execution_count": null,
   "metadata": {},
   "outputs": [],
   "source": [
    "bad_flux = np.isnan(phot_one_filter_only['aperture_net_flux'])\n",
    "bad_ids = list(set(phot_one_filter_only['id'][bad_flux]))\n",
    "print(bad_ids)"
   ]
  },
  {
   "cell_type": "code",
   "execution_count": null,
   "metadata": {},
   "outputs": [],
   "source": [
    "if bad_ids:\n",
    "    is_bad_comp = aperture_locations['id'] == bad_ids[0]\n",
    "    for bad_id in bad_ids[1:]:\n",
    "        is_bad_comp = is_bad_comp | aperture_locations['id'] == bad_id\n",
    "else:\n",
    "    # Make an array that has no bad values\n",
    "    is_bad_comp = aperture_locations['id'] == -42"
   ]
  },
  {
   "cell_type": "code",
   "execution_count": null,
   "metadata": {},
   "outputs": [],
   "source": [
    "updated_apertures = aperture_locations[~is_bad_comp]"
   ]
  },
  {
   "cell_type": "code",
   "execution_count": null,
   "metadata": {},
   "outputs": [],
   "source": [
    "comps = updated_apertures[updated_apertures['marker name'] == 'APASS comparison']\n",
    "new_flux = calc_aij_relative_flux(phot_one_filter_only, comps, \n",
    "                                  in_place=False, coord_column='coord')"
   ]
  },
  {
   "cell_type": "code",
   "execution_count": null,
   "metadata": {},
   "outputs": [],
   "source": [
    "target = new_flux['id'] == 1"
   ]
  },
  {
   "cell_type": "code",
   "execution_count": null,
   "metadata": {},
   "outputs": [],
   "source": [
    "assert not np.isnan(new_flux['relative_flux'][target]).sum()"
   ]
  },
  {
   "cell_type": "code",
   "execution_count": null,
   "metadata": {},
   "outputs": [],
   "source": [
    "plt.plot(new_flux['BJD'][target], new_flux['relative_flux'][target], '.')\n",
    "plt.vlines(that_transit.value, *plt.ylim())\n",
    "plt.xlabel('BJD')\n",
    "plt.ylabel('Relative flux')\n"
   ]
  },
  {
   "cell_type": "code",
   "execution_count": null,
   "metadata": {},
   "outputs": [],
   "source": []
  }
 ],
 "metadata": {
  "kernelspec": {
   "display_name": "Python 3",
   "language": "python",
   "name": "python3"
  },
  "language_info": {
   "codemirror_mode": {
    "name": "ipython",
    "version": 3
   },
   "file_extension": ".py",
   "mimetype": "text/x-python",
   "name": "python",
   "nbconvert_exporter": "python",
   "pygments_lexer": "ipython3",
   "version": "3.8.3"
  }
 },
 "nbformat": 4,
 "nbformat_minor": 4
}
