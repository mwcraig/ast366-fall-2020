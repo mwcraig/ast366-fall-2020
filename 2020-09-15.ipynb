{
 "cells": [
  {
   "cell_type": "markdown",
   "metadata": {},
   "source": [
    "# 2020-09-15"
   ]
  },
  {
   "cell_type": "markdown",
   "metadata": {},
   "source": [
    "## Topics\n",
    "\n",
    "+ Observatory update\n",
    "+ Venus news\n",
    "+ Image combination\n",
    "\n"
   ]
  },
  {
   "cell_type": "markdown",
   "metadata": {},
   "source": [
    "## Image combination\n",
    "\n",
    "Please click this link to open a \"runnable\" copy of the CCD Data reduction guide on our server:\n",
    "\n",
    "http://bit.ly/ast366-ccd-guide\n",
    "\n",
    "(this link is now in D2L Materials → Content →  Resources too)"
   ]
  },
  {
   "cell_type": "markdown",
   "metadata": {},
   "source": [
    "## Recording of lecture"
   ]
  },
  {
   "cell_type": "code",
   "execution_count": 1,
   "metadata": {},
   "outputs": [
    {
     "data": {
      "image/jpeg": "[encoded data removed]",
      "text/html": [
       "\n",
       "        <iframe\n",
       "            width=\"400\"\n",
       "            height=\"300\"\n",
       "            src=\"https://www.youtube.com/embed/WPfXaY8LIWs\"\n",
       "            frameborder=\"0\"\n",
       "            allowfullscreen\n",
       "        ></iframe>\n",
       "        "
      ],
      "text/plain": [
       "<IPython.lib.display.YouTubeVideo at 0x7fabe85fd100>"
      ]
     },
     "execution_count": 1,
     "metadata": {},
     "output_type": "execute_result"
    }
   ],
   "source": [
    "from IPython.display import YouTubeVideo\n",
    "YouTubeVideo('WPfXaY8LIWs')"
   ]
  },
  {
   "cell_type": "markdown",
   "metadata": {},
   "source": [
    "### Average \n",
    "\n",
    "\n",
    "1, 3, 7, 10, 150\n",
    "\n",
    "Add them up, divide by the number of numbers (5 in this case)"
   ]
  },
  {
   "cell_type": "code",
   "execution_count": 1,
   "metadata": {},
   "outputs": [
    {
     "data": {
      "text/plain": [
       "34.2"
      ]
     },
     "execution_count": 1,
     "metadata": {},
     "output_type": "execute_result"
    }
   ],
   "source": [
    "import numpy as np\n",
    "\n",
    "np.mean([1, 3, 7, 10, 150])"
   ]
  },
  {
   "cell_type": "markdown",
   "metadata": {},
   "source": [
    "### Median\n",
    "\n",
    "Sort the numbers, and median is the middle value, in this case 7."
   ]
  },
  {
   "cell_type": "markdown",
   "metadata": {},
   "source": [
    "1, 2, 3, 3, 4, 5, 6, 6, 6, 7, 10, 12, 13, 18, 19, 150"
   ]
  },
  {
   "cell_type": "markdown",
   "metadata": {},
   "source": [
    "### Why does the average reduce noise?\n",
    "\n",
    "Average is two steps:\n",
    "\n",
    "1. Add images together\n",
    "2. Divide by number of images\n",
    "\n"
   ]
  },
  {
   "cell_type": "markdown",
   "metadata": {},
   "source": [
    "The dividing is what lowers the noise....why didn't the noise go down by a factor of 100 when we averaged 100 images together?"
   ]
  },
  {
   "cell_type": "markdown",
   "metadata": {},
   "source": [
    "Two rules for calculating error:\n",
    "\n",
    "+ Counting error: If you count $N$ things the error in the counts is $\\sqrt{N}$\n",
    "\n",
    "+ If you combine two quantities by adding or subtracting whose errors are $e_1$ and $e_2$ then the error in result $\\sqrt{e_1^2 + e_2^2}$"
   ]
  },
  {
   "cell_type": "markdown",
   "metadata": {},
   "source": [
    "Combining 100 identical images. Call error in one of those images $e_1$, then error in the result is $\\sqrt{e_1^2 + e_1^2 + e_1^2 + \\cdots + e_1^2}$"
   ]
  },
  {
   "cell_type": "markdown",
   "metadata": {},
   "source": [
    "This simplifies to $\\sqrt{N e_1^2} = \\sqrt{N} e_1$"
   ]
  },
  {
   "cell_type": "markdown",
   "metadata": {},
   "source": [
    "To do the average, divide by $N$. TO find its error, divide the error in the sum, which was $\\sqrt{N} e_1$ by $N$ to get $e_1/\\sqrt{N}$."
   ]
  }
 ],
 "metadata": {
  "kernelspec": {
   "display_name": "Python 3",
   "language": "python",
   "name": "python3"
  },
  "language_info": {
   "codemirror_mode": {
    "name": "ipython",
    "version": 3
   },
   "file_extension": ".py",
   "mimetype": "text/x-python",
   "name": "python",
   "nbconvert_exporter": "python",
   "pygments_lexer": "ipython3",
   "version": "3.8.3"
  }
 },
 "nbformat": 4,
 "nbformat_minor": 4
}
