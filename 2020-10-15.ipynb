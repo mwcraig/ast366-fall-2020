{
 "cells": [
  {
   "cell_type": "markdown",
   "metadata": {},
   "source": [
    "# 2020-10-15"
   ]
  },
  {
   "cell_type": "markdown",
   "metadata": {},
   "source": [
    "## Calibrated nights of data"
   ]
  },
  {
   "cell_type": "markdown",
   "metadata": {},
   "source": [
    "### 2018-12-16\n",
    "#### August\n",
    "\n",
    "+ Many images badly out of focus. \n",
    "+ Several different objects.\n",
    "+ Unclear if actual transit happened that night."
   ]
  },
  {
   "cell_type": "markdown",
   "metadata": {},
   "source": [
    "### 2019-06-01 \n",
    "#### Brett \n",
    "\n",
    "+ Several objects, including deep sky objects (*two galaxies* 😃)\n",
    "+ Need to check whether tres-4b had a transit that night.\n",
    "+ Check whether there are variable stars in the field of view."
   ]
  },
  {
   "cell_type": "markdown",
   "metadata": {},
   "source": [
    "### 2019-10-25\n",
    "#### Emma\n",
    "\n",
    "+ Many galaxy images\n",
    "+ Need to check if TIC-167031605 had a transit that night\n",
    "+ Check whether there are variable stars in this field of view"
   ]
  },
  {
   "cell_type": "markdown",
   "metadata": {},
   "source": [
    "### 2020-06-24 \n",
    "#### Kayla\n",
    "\n",
    "+ Check whether/how much transit of TIC-233120979 happened that night\n",
    "+ Check whether there are any variable stars in that field."
   ]
  },
  {
   "cell_type": "markdown",
   "metadata": {},
   "source": [
    "### 2020-07-01 \n",
    "#### Kristian \n",
    "\n",
    "+ Check whether TIC-272758199 had a transit.\n",
    "+ **Two filters** for this object\n",
    "+ Any variable stars in this field of view?"
   ]
  },
  {
   "cell_type": "markdown",
   "metadata": {},
   "source": [
    "### 2020-07-26 \n",
    "#### Max \n",
    "\n",
    "\n",
    "+ Check whether transit occurred for TIC-422656370\n",
    "+ Check whether there are variable stars in this field. \n",
    "+ Multiple satellites"
   ]
  },
  {
   "cell_type": "markdown",
   "metadata": {},
   "source": [
    "### 2020-08-11 \n",
    "#### Riley\n",
    "\n",
    "+ Check whether transit for TIC-230088370 on that night\n",
    "+ **Two filters**\n",
    "+ Check whether there are variable stars in this field"
   ]
  },
  {
   "cell_type": "markdown",
   "metadata": {},
   "source": [
    "## Some odds and ends"
   ]
  },
  {
   "cell_type": "markdown",
   "metadata": {},
   "source": [
    "### Barycentric and Heliocentric Julian Date\n",
    "\n",
    "**WRITE BRIEF SUMMARY And INCLUDE VIDEO/AWESOME ARTWORK**\n"
   ]
  },
  {
   "cell_type": "markdown",
   "metadata": {},
   "source": [
    "### Seeing profile: how wide is a star in an image?"
   ]
  },
  {
   "cell_type": "code",
   "execution_count": null,
   "metadata": {},
   "outputs": [],
   "source": []
  },
  {
   "cell_type": "code",
   "execution_count": null,
   "metadata": {},
   "outputs": [],
   "source": []
  }
 ],
 "metadata": {
  "kernelspec": {
   "display_name": "Python 3",
   "language": "python",
   "name": "python3"
  },
  "language_info": {
   "codemirror_mode": {
    "name": "ipython",
    "version": 3
   },
   "file_extension": ".py",
   "mimetype": "text/x-python",
   "name": "python",
   "nbconvert_exporter": "python",
   "pygments_lexer": "ipython3",
   "version": "3.8.3"
  }
 },
 "nbformat": 4,
 "nbformat_minor": 4
}
