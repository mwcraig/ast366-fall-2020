{
 "cells": [
  {
   "cell_type": "markdown",
   "metadata": {},
   "source": [
    "# 2020-11-17"
   ]
  },
  {
   "cell_type": "markdown",
   "metadata": {},
   "source": [
    "## First: cross-check data reduction \n",
    "\n",
    "Things to check for possible errors:\n",
    "\n",
    "+ a high average value sky pixel -- maybe no bias subtraction?\n",
    "+ many single bright pixels -- maybe no dark subtraction?\n",
    "+ Vertical streak, and bright bands at the edges -- maybe no bias subtraction?\n",
    "+ Uneven brightness across -- maybe a flat fielding issue\n",
    "+ Glow in upper left -- maybe incorrect dark subtraction?\n",
    "\n",
    "How to check:\n",
    "\n",
    "+ Make a copy of the viewer-seeing-profile-template\n",
    "+ Load a images of stars from your partner's night\n",
    "+ Check for errors"
   ]
  },
  {
   "cell_type": "code",
   "execution_count": null,
   "metadata": {},
   "outputs": [],
   "source": []
  }
 ],
 "metadata": {
  "kernelspec": {
   "display_name": "Python 3",
   "language": "python",
   "name": "python3"
  },
  "language_info": {
   "codemirror_mode": {
    "name": "ipython",
    "version": 3
   },
   "file_extension": ".py",
   "mimetype": "text/x-python",
   "name": "python",
   "nbconvert_exporter": "python",
   "pygments_lexer": "ipython3",
   "version": "3.8.3"
  }
 },
 "nbformat": 4,
 "nbformat_minor": 4
}
