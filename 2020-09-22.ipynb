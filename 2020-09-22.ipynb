{
 "cells": [
  {
   "cell_type": "markdown",
   "metadata": {},
   "source": [
    "# 2020-09-22 "
   ]
  },
  {
   "cell_type": "markdown",
   "metadata": {},
   "source": [
    "## Summary of calibration steps and choices for our camera\n",
    "\n",
    "+ Overview is in these two sources:\n",
    "    - https://mwcraig.github.io/ccd-as-book/01-05-Calibration-overview.html\n",
    "    - https://mwcraig.github.io/ccd-as-book/01-09-Calibration-choices-you-need-to-make.html"
   ]
  },
  {
   "cell_type": "markdown",
   "metadata": {},
   "source": [
    "Calibration steps\n",
    "\n",
    "1. Reduce and combine bias images\n",
    "2. Reduce and combine dark images\n",
    "3. Reduce and combine flat images\n",
    "4. Reduce science images\n",
    "\n",
    "Reduce ↔ Calibrate\n",
    "\n",
    "Reduction ↔ Calibration"
   ]
  },
  {
   "cell_type": "markdown",
   "metadata": {},
   "source": [
    "### Calibrating and combining bias images\n",
    "\n",
    "1. Remove (trim) overscan region\n",
    "2. Optionally, subtract overscan (but **not** for our camera)\n",
    "3. Combine images\n",
    "    + Average the bias images\n",
    "    + Eliminate outlying values by doing sigma clipping"
   ]
  },
  {
   "cell_type": "markdown",
   "metadata": {},
   "source": [
    "### Calibrating and combining dark images\n",
    "\n",
    "1. Remove overscan region\n",
    "2. Optionally, subtract overscan (but **not** for our camera)\n",
    "3. Subtract the **combined** bias image from each dark image\n",
    "4. Combine dark images \n",
    "    + Average the dark images\n",
    "    + Use sigma clipping to exclude extreme values \n",
    "    + Group by exposure times"
   ]
  },
  {
   "cell_type": "markdown",
   "metadata": {},
   "source": [
    "### Calibrating and combining flat images\n",
    "\n",
    "Twilight flats each have a different exposure time, and small differences in average pixel counts.\n",
    "\n",
    "1. Remove overscan region\n",
    "2. Optionally, subtract overscan (but not for our camera)\n",
    "3. Subtract **combined** bias from each flat\n",
    "4. Subtract **combined** dark from each flat image, scale the exposure time of the combined dark to match flat image\n",
    "5. Combine the flat images\n",
    "    + Sigma clip\n",
    "    + Average the flat images together\n",
    "    + Scale so that their *median* all have same value (1)\n",
    "    + Group by filter"
   ]
  },
  {
   "cell_type": "markdown",
   "metadata": {},
   "source": [
    "## Calibrating science images\n",
    "\n",
    "1. Remove overscan region\n",
    "2. Optionally, subtract overscan (but not for our camera)\n",
    "3. Subtract **combined** bias from each science image\n",
    "4. Subtract **combined** dark from each science image, scale the exposure time of the combined dark to match science image\n",
    "5. Divide each science image by the **combined** flat for that image's filter."
   ]
  }
 ],
 "metadata": {
  "kernelspec": {
   "display_name": "Python 3",
   "language": "python",
   "name": "python3"
  },
  "language_info": {
   "codemirror_mode": {
    "name": "ipython",
    "version": 3
   },
   "file_extension": ".py",
   "mimetype": "text/x-python",
   "name": "python",
   "nbconvert_exporter": "python",
   "pygments_lexer": "ipython3",
   "version": "3.8.3"
  }
 },
 "nbformat": 4,
 "nbformat_minor": 4
}
